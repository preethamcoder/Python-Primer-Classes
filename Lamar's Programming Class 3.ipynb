{
 "cells": [
  {
   "cell_type": "markdown",
   "id": "014e5d08-10b0-4d20-83c4-1b6b7b8806ea",
   "metadata": {},
   "source": [
    "# Loops"
   ]
  },
  {
   "cell_type": "markdown",
   "id": "ebbc954a-7fab-4b85-b7bb-c50de7e1b1fa",
   "metadata": {},
   "source": [
    "### This lets you something over and over again. It allows you to repeat an action or a process as many times as possible"
   ]
  },
  {
   "cell_type": "code",
   "execution_count": 1,
   "id": "bbb1bd39-1d79-409a-871e-bf62aa5c51af",
   "metadata": {},
   "outputs": [
    {
     "name": "stdout",
     "output_type": "stream",
     "text": [
      "1\n",
      "2\n",
      "3\n",
      "4\n",
      "5\n",
      "6\n",
      "7\n",
      "8\n",
      "9\n",
      "10\n"
     ]
    }
   ],
   "source": [
    "print(1)\n",
    "print(2)\n",
    "print(3)\n",
    "print(4)\n",
    "print(5)\n",
    "print(6)\n",
    "print(7)\n",
    "print(8)\n",
    "print(9)\n",
    "print(10)"
   ]
  },
  {
   "cell_type": "markdown",
   "id": "f71a4fcc-0034-4441-96a9-727b0054fb4f",
   "metadata": {},
   "source": [
    "### Small numbers are fine. But what if the number is large?"
   ]
  },
  {
   "cell_type": "markdown",
   "id": "e1d773b9-515c-4f1d-abe6-64220435fa67",
   "metadata": {},
   "source": [
    "We are going to use loops!\n",
    "There are 2 kinds of loops.\n",
    "They allow you to save time, and get more done with less code!"
   ]
  },
  {
   "cell_type": "markdown",
   "id": "583ca0c2-642e-458b-bcc1-81cd8df30190",
   "metadata": {},
   "source": [
    "# For loop and While loop"
   ]
  },
  {
   "cell_type": "markdown",
   "id": "c95481ce-54f1-4d97-8343-5a91496be792",
   "metadata": {},
   "source": [
    "A for loop works on a counter, or a finite set of iterations.\n",
    "**Finite** means it is something that has an end.\n",
    "**Iteration** means a round. "
   ]
  },
  {
   "cell_type": "markdown",
   "id": "ddaf3876-40ca-4c00-9b32-5548428170f9",
   "metadata": {},
   "source": [
    "A for loop has a start, a stop, and a step."
   ]
  },
  {
   "cell_type": "markdown",
   "id": "64b6e615-91af-4a65-b9d4-894ccb19f7d1",
   "metadata": {},
   "source": [
    "for ind in range(10, 21, 2) --> the loop starts at 10. It ends at 20 (it goes one less than the second number). It increases by 2 every time."
   ]
  },
  {
   "cell_type": "markdown",
   "id": "0a0a630a-ff0a-46e3-86ed-35b199a1fe1a",
   "metadata": {},
   "source": [
    "for ind in range(assume the start is 0, 20, <step>) --> the loop starts at 0. It ends at 19. One less than the number every time. It goes by 1. We assume the step is 1. It increases by 1 every time."
   ]
  },
  {
   "cell_type": "code",
   "execution_count": 4,
   "id": "8ebd77cd-c397-498e-89d1-ae7e6d59bd95",
   "metadata": {},
   "outputs": [
    {
     "name": "stdout",
     "output_type": "stream",
     "text": [
      "0\n",
      "1\n",
      "2\n",
      "3\n",
      "4\n",
      "5\n",
      "6\n",
      "7\n",
      "8\n",
      "9\n",
      "10\n",
      "11\n",
      "12\n",
      "13\n",
      "14\n",
      "15\n",
      "16\n",
      "17\n",
      "18\n",
      "19\n"
     ]
    }
   ],
   "source": [
    "for ind in range(20):\n",
    "    print(ind)"
   ]
  },
  {
   "cell_type": "code",
   "execution_count": 6,
   "id": "81114841-2e62-4c66-863e-7de325a3177d",
   "metadata": {},
   "outputs": [
    {
     "name": "stdout",
     "output_type": "stream",
     "text": [
      "10\n",
      "9\n",
      "8\n",
      "7\n",
      "6\n",
      "5\n",
      "4\n",
      "3\n",
      "2\n",
      "1\n",
      "0\n"
     ]
    }
   ],
   "source": [
    "# Here, the step is -1. So, ind goes down by 1 from 10. It ends at 0, because it goes one less than the \"end\"\n",
    "for ind in range(10, -1, -1):\n",
    "    print(ind)"
   ]
  },
  {
   "cell_type": "markdown",
   "id": "bc0b8762-651f-4e6b-b153-478d91600b69",
   "metadata": {},
   "source": [
    "Write me for loops to print the following sequences:"
   ]
  },
  {
   "cell_type": "markdown",
   "id": "4ffe287c-959c-4e21-b21e-76ecb8967d85",
   "metadata": {},
   "source": [
    "1. Odd numbers from 1 to 20\n",
    "2. Even numbers from 0 to 40\n",
    "3. All  numbers from 1 to 100\n",
    "4. Numbers from 10 to 50, skipping by 5s.\n",
    "5. Multiples of 4 from 40 to 80."
   ]
  },
  {
   "cell_type": "code",
   "execution_count": 8,
   "id": "a1205768-f9c5-43f2-a7ff-fc0aec8e5373",
   "metadata": {},
   "outputs": [
    {
     "name": "stdout",
     "output_type": "stream",
     "text": [
      "1\n",
      "3\n",
      "5\n",
      "7\n",
      "9\n",
      "11\n",
      "13\n",
      "15\n",
      "17\n",
      "19\n"
     ]
    }
   ],
   "source": [
    "for ind in range(1, 21, 2):\n",
    "    print(ind)"
   ]
  },
  {
   "cell_type": "code",
   "execution_count": 9,
   "id": "2aafbf4b-71a7-43f9-b8ff-b04af4762195",
   "metadata": {},
   "outputs": [
    {
     "name": "stdout",
     "output_type": "stream",
     "text": [
      "1\n",
      "3\n",
      "5\n",
      "7\n",
      "9\n",
      "11\n",
      "13\n",
      "15\n",
      "17\n",
      "19\n"
     ]
    }
   ],
   "source": [
    "for ind in range(1, 20, 2):\n",
    "    print(ind)"
   ]
  },
  {
   "cell_type": "code",
   "execution_count": 12,
   "id": "ade9c0a9-b655-4474-950e-0820f25d72d7",
   "metadata": {},
   "outputs": [
    {
     "name": "stdout",
     "output_type": "stream",
     "text": [
      "0\n",
      "2\n",
      "4\n",
      "6\n",
      "8\n",
      "10\n",
      "12\n",
      "14\n",
      "16\n",
      "18\n",
      "20\n",
      "22\n",
      "24\n",
      "26\n",
      "28\n",
      "30\n",
      "32\n",
      "34\n",
      "36\n",
      "38\n"
     ]
    }
   ],
   "source": [
    "for ind in range(0, 40, 2):\n",
    "    print(ind)"
   ]
  },
  {
   "cell_type": "code",
   "execution_count": 13,
   "id": "11c9b8e5-80dc-4d10-bd73-77d67f4f4411",
   "metadata": {},
   "outputs": [
    {
     "name": "stdout",
     "output_type": "stream",
     "text": [
      "0\n",
      "2\n",
      "4\n",
      "6\n",
      "8\n",
      "10\n",
      "12\n",
      "14\n",
      "16\n",
      "18\n",
      "20\n",
      "22\n",
      "24\n",
      "26\n",
      "28\n",
      "30\n",
      "32\n",
      "34\n",
      "36\n",
      "38\n",
      "40\n"
     ]
    }
   ],
   "source": [
    "for ind in range(0, 41, 2):\n",
    "    print(ind)"
   ]
  },
  {
   "cell_type": "code",
   "execution_count": 14,
   "id": "da49697a-ae01-4e57-b844-ab5b4de7a5b6",
   "metadata": {
    "scrolled": true
   },
   "outputs": [
    {
     "name": "stdout",
     "output_type": "stream",
     "text": [
      "1\n",
      "2\n",
      "3\n",
      "4\n",
      "5\n",
      "6\n",
      "7\n",
      "8\n",
      "9\n",
      "10\n",
      "11\n",
      "12\n",
      "13\n",
      "14\n",
      "15\n",
      "16\n",
      "17\n",
      "18\n",
      "19\n",
      "20\n",
      "21\n",
      "22\n",
      "23\n",
      "24\n",
      "25\n",
      "26\n",
      "27\n",
      "28\n",
      "29\n",
      "30\n",
      "31\n",
      "32\n",
      "33\n",
      "34\n",
      "35\n",
      "36\n",
      "37\n",
      "38\n",
      "39\n",
      "40\n",
      "41\n",
      "42\n",
      "43\n",
      "44\n",
      "45\n",
      "46\n",
      "47\n",
      "48\n",
      "49\n",
      "50\n",
      "51\n",
      "52\n",
      "53\n",
      "54\n",
      "55\n",
      "56\n",
      "57\n",
      "58\n",
      "59\n",
      "60\n",
      "61\n",
      "62\n",
      "63\n",
      "64\n",
      "65\n",
      "66\n",
      "67\n",
      "68\n",
      "69\n",
      "70\n",
      "71\n",
      "72\n",
      "73\n",
      "74\n",
      "75\n",
      "76\n",
      "77\n",
      "78\n",
      "79\n",
      "80\n",
      "81\n",
      "82\n",
      "83\n",
      "84\n",
      "85\n",
      "86\n",
      "87\n",
      "88\n",
      "89\n",
      "90\n",
      "91\n",
      "92\n",
      "93\n",
      "94\n",
      "95\n",
      "96\n",
      "97\n",
      "98\n",
      "99\n"
     ]
    }
   ],
   "source": [
    "for ind in range(1, 100):\n",
    "    print(ind)"
   ]
  },
  {
   "cell_type": "code",
   "execution_count": 15,
   "id": "8e8f65a1-6936-4c31-b51f-6d3ad664f799",
   "metadata": {
    "scrolled": true
   },
   "outputs": [
    {
     "name": "stdout",
     "output_type": "stream",
     "text": [
      "1\n",
      "2\n",
      "3\n",
      "4\n",
      "5\n",
      "6\n",
      "7\n",
      "8\n",
      "9\n",
      "10\n",
      "11\n",
      "12\n",
      "13\n",
      "14\n",
      "15\n",
      "16\n",
      "17\n",
      "18\n",
      "19\n",
      "20\n",
      "21\n",
      "22\n",
      "23\n",
      "24\n",
      "25\n",
      "26\n",
      "27\n",
      "28\n",
      "29\n",
      "30\n",
      "31\n",
      "32\n",
      "33\n",
      "34\n",
      "35\n",
      "36\n",
      "37\n",
      "38\n",
      "39\n",
      "40\n",
      "41\n",
      "42\n",
      "43\n",
      "44\n",
      "45\n",
      "46\n",
      "47\n",
      "48\n",
      "49\n",
      "50\n",
      "51\n",
      "52\n",
      "53\n",
      "54\n",
      "55\n",
      "56\n",
      "57\n",
      "58\n",
      "59\n",
      "60\n",
      "61\n",
      "62\n",
      "63\n",
      "64\n",
      "65\n",
      "66\n",
      "67\n",
      "68\n",
      "69\n",
      "70\n",
      "71\n",
      "72\n",
      "73\n",
      "74\n",
      "75\n",
      "76\n",
      "77\n",
      "78\n",
      "79\n",
      "80\n",
      "81\n",
      "82\n",
      "83\n",
      "84\n",
      "85\n",
      "86\n",
      "87\n",
      "88\n",
      "89\n",
      "90\n",
      "91\n",
      "92\n",
      "93\n",
      "94\n",
      "95\n",
      "96\n",
      "97\n",
      "98\n",
      "99\n",
      "100\n"
     ]
    }
   ],
   "source": [
    "for ind in range(1, 101):\n",
    "    print(ind)"
   ]
  },
  {
   "cell_type": "code",
   "execution_count": 23,
   "id": "461d4bd2-0fb2-4e46-b301-5013b5701beb",
   "metadata": {},
   "outputs": [
    {
     "name": "stdout",
     "output_type": "stream",
     "text": [
      "10\n",
      "15\n",
      "20\n",
      "25\n",
      "30\n",
      "35\n",
      "40\n",
      "45\n",
      "50\n"
     ]
    }
   ],
   "source": [
    "for ind in range(10, 51, 5): # The last number in the round would be 49 if 50 is the end\n",
    "    # If 51, it is 50.\n",
    "    print(ind)"
   ]
  },
  {
   "cell_type": "code",
   "execution_count": 20,
   "id": "6f0657ff-2a86-46ae-9f1f-d34d63c281fc",
   "metadata": {},
   "outputs": [
    {
     "name": "stdout",
     "output_type": "stream",
     "text": [
      "40\n",
      "44\n",
      "48\n",
      "52\n",
      "56\n",
      "60\n",
      "64\n",
      "68\n",
      "72\n",
      "76\n",
      "80\n"
     ]
    }
   ],
   "source": [
    "for ind in range(40, 81, 4):\n",
    "    print(ind)"
   ]
  },
  {
   "cell_type": "code",
   "execution_count": 21,
   "id": "0b2af667-b0d2-45c4-b75f-ac3f3160c56f",
   "metadata": {},
   "outputs": [
    {
     "name": "stdout",
     "output_type": "stream",
     "text": [
      "40\n",
      "44\n",
      "48\n",
      "52\n",
      "56\n",
      "60\n",
      "64\n",
      "68\n",
      "72\n",
      "76\n"
     ]
    }
   ],
   "source": [
    "for ind in range(40, 80, 4):\n",
    "    print(ind)"
   ]
  },
  {
   "cell_type": "markdown",
   "id": "e824c183-22b5-4ec7-9f91-ca9f6a4a6295",
   "metadata": {},
   "source": [
    "# Homework"
   ]
  },
  {
   "cell_type": "markdown",
   "id": "d50818fe-a8ed-49cd-b537-0b39129f5d83",
   "metadata": {},
   "source": [
    "### This is due on 6/30/2024 @ 11:59 pm"
   ]
  },
  {
   "cell_type": "markdown",
   "id": "e9af1f91-7a65-402a-ae93-61f055c59114",
   "metadata": {},
   "source": [
    "1. Print me all the odd numbers from 1 to 100.\n",
    "2. Display all the multiples of 6 between 0 and 120.\n",
    "3. Print me the multiples of 3 from 0 to 30.\n",
    "4. Diplay all numbers between 100 and 500.\n",
    "5. This one should be on paper. List 5 things you learned in today's class."
   ]
  }
 ],
 "metadata": {
  "kernelspec": {
   "display_name": "Python 3 (ipykernel)",
   "language": "python",
   "name": "python3"
  },
  "language_info": {
   "codemirror_mode": {
    "name": "ipython",
    "version": 3
   },
   "file_extension": ".py",
   "mimetype": "text/x-python",
   "name": "python",
   "nbconvert_exporter": "python",
   "pygments_lexer": "ipython3",
   "version": "3.11.7"
  }
 },
 "nbformat": 4,
 "nbformat_minor": 5
}
