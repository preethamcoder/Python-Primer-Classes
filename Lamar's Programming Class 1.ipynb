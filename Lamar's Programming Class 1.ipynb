{
 "cells": [
  {
   "cell_type": "markdown",
   "id": "e484894d-146f-4d18-a92d-4534584baf34",
   "metadata": {},
   "source": [
    "# Program:"
   ]
  },
  {
   "cell_type": "markdown",
   "id": "21294b10-f97f-46df-b924-46b6c8f8eb1c",
   "metadata": {},
   "source": [
    "### A set of instructions given to a computer to do a specific task"
   ]
  },
  {
   "cell_type": "markdown",
   "id": "bbe02c92-b29f-44da-9280-d28c162ec8a7",
   "metadata": {},
   "source": [
    "A computer only understands 0s and 1s (Machine Language). So, how do we even talk to it?\n",
    "We use programming languages!\n",
    "\n",
    "These programs we write, are converted into 0s and 1s."
   ]
  },
  {
   "cell_type": "markdown",
   "id": "74fce0ca-ace2-46a8-b2a5-9e8153bd383a",
   "metadata": {},
   "source": [
    "### That's cool, but why do we care?"
   ]
  },
  {
   "cell_type": "markdown",
   "id": "7b11ceb7-9683-4555-b0bb-fbd4582d6b82",
   "metadata": {},
   "source": [
    "Lohith: GPS, Lucky: Daily lives, Abhinav: Gives people jobs; do stuff humans cant do, Pradhyum: Helps banks, helps count money"
   ]
  },
  {
   "cell_type": "markdown",
   "id": "e9590374-dbd9-490b-ad16-763fddff6f47",
   "metadata": {},
   "source": [
    "### Programming is everywhere! You can book flights, Ubers, Cars run with it, Teslas, Apple car Play.\n",
    "If you can program, you can do almost anything in this world!\n",
    "You can work in defense, IT, Data, AI, you can work almost anywhere."
   ]
  },
  {
   "cell_type": "markdown",
   "id": "dd6bee4a-cc17-4f7c-97e6-06fc58a4b51c",
   "metadata": {},
   "source": [
    "# One language: PYTHON"
   ]
  },
  {
   "cell_type": "markdown",
   "id": "aea494c7-6c35-42a2-b6f7-de773f027a67",
   "metadata": {},
   "source": [
    "Easy to learn, user friendly, just like English, and can be used in a LOT of places!"
   ]
  },
  {
   "cell_type": "markdown",
   "id": "3599dbe9-35af-455f-a633-b54a482ca391",
   "metadata": {},
   "source": [
    "It can be used for Web development, App development, AI, Machine Learning, Data Science, and even Trading."
   ]
  },
  {
   "cell_type": "markdown",
   "id": "c8a4f4dd-8a7f-422d-9841-4644217a1acc",
   "metadata": {},
   "source": [
    "A program either runs or fails, gives you the error.\n",
    "You can also log stuff.\n",
    "This logging is done using a command called ```print```"
   ]
  },
  {
   "cell_type": "code",
   "execution_count": 1,
   "id": "d95f8540-380c-4405-b6d3-4e07315b3614",
   "metadata": {},
   "outputs": [
    {
     "name": "stdout",
     "output_type": "stream",
     "text": [
      "Abhinav is my best friend\n"
     ]
    }
   ],
   "source": [
    "print(\"Abhinav is my best friend\")"
   ]
  },
  {
   "cell_type": "code",
   "execution_count": 2,
   "id": "5caf6b20-6fd5-45b4-a585-7d4a2c6b82b6",
   "metadata": {},
   "outputs": [
    {
     "ename": "SyntaxError",
     "evalue": "unterminated string literal (detected at line 1) (1286776920.py, line 1)",
     "output_type": "error",
     "traceback": [
      "\u001b[0;36m  Cell \u001b[0;32mIn[2], line 1\u001b[0;36m\u001b[0m\n\u001b[0;31m    print(\"Abhinav is my best friend)\u001b[0m\n\u001b[0m          ^\u001b[0m\n\u001b[0;31mSyntaxError\u001b[0m\u001b[0;31m:\u001b[0m unterminated string literal (detected at line 1)\n"
     ]
    }
   ],
   "source": [
    "print(\"Abhinav is my best friend)"
   ]
  },
  {
   "cell_type": "code",
   "execution_count": 3,
   "id": "d06689bc-8913-4fb0-a302-864b5bf10835",
   "metadata": {},
   "outputs": [
    {
     "name": "stdout",
     "output_type": "stream",
     "text": [
      "I wrote a comment\n"
     ]
    }
   ],
   "source": [
    "# This is a comment\n",
    "print(\"I wrote a comment\")"
   ]
  },
  {
   "cell_type": "markdown",
   "id": "4177f126-39b3-4674-af0b-6bc34eb92e33",
   "metadata": {},
   "source": [
    "# Data Types"
   ]
  },
  {
   "cell_type": "markdown",
   "id": "a56fcb45-1f2a-4113-a38d-0a8086051c8f",
   "metadata": {},
   "source": [
    "### There are 4 very important data types!"
   ]
  },
  {
   "cell_type": "markdown",
   "id": "df23819c-857d-4325-b653-b71daf15e19a",
   "metadata": {},
   "source": [
    "### 1. Strings:\n",
    "These are characters, or a set of characters together. ```Examples: \"lucky\", \"ab\", \"ninja\", \"nikesh\"```\n",
    "### 2. Integers:\n",
    "These are numbers, integers. They can be positive or negative numbers. ```Examples: 1, 2, 0, 100, -100, -120321345, 12345781236```\n",
    "### 3. Floats:\n",
    "These are numbers too, but they include decimal points. They have both positive and negative values. ```Examples: 1.0, 101.234, -1234.89245```\n",
    "### 4. Booleans:\n",
    "These are truth values, only have 2 possible values. ```True``` and ```False```"
   ]
  },
  {
   "cell_type": "markdown",
   "id": "7e4da552-6ab1-428c-9cfa-bb03ceb94665",
   "metadata": {},
   "source": [
    "# Variables and Constants"
   ]
  },
  {
   "cell_type": "markdown",
   "id": "63ba5986-d986-4302-aec6-70cf043f862a",
   "metadata": {},
   "source": [
    "### Variables:\n",
    "Their values change over time, and can be assigned to anything. ```a, b, x, y```. They have different names. You can only have valid variable names, if it has these characters: ```A-Z, a-z, 0-9, or '_'```. The variable names cannot start with a number, but can start with any other valid character.  \n",
    "### Constants:\n",
    "These values do not change. They are set in stone. ```1, 2, 3, 4, True, False 1.0, 2.0, \"hello\"```"
   ]
  },
  {
   "cell_type": "code",
   "execution_count": 7,
   "id": "b5e3b164-73c6-4fff-b135-08144c6facfc",
   "metadata": {},
   "outputs": [
    {
     "data": {
      "text/plain": [
       "(7, 6, 1.0, 0, 9)"
      ]
     },
     "execution_count": 7,
     "metadata": {},
     "output_type": "execute_result"
    }
   ],
   "source": [
    "3+4, 3*2, 3/3, 3-3, 3**2\n",
    "# Add, multiply, divide, subtract, exponent!"
   ]
  },
  {
   "cell_type": "code",
   "execution_count": 8,
   "id": "e3315624-dc6c-490d-bbe5-eb7550554c90",
   "metadata": {},
   "outputs": [
    {
     "ename": "ZeroDivisionError",
     "evalue": "division by zero",
     "output_type": "error",
     "traceback": [
      "\u001b[0;31m---------------------------------------------------------------------------\u001b[0m",
      "\u001b[0;31mZeroDivisionError\u001b[0m                         Traceback (most recent call last)",
      "Cell \u001b[0;32mIn[8], line 1\u001b[0m\n\u001b[0;32m----> 1\u001b[0m \u001b[38;5;241m10\u001b[39m\u001b[38;5;241m/\u001b[39m\u001b[38;5;241m0\u001b[39m\n",
      "\u001b[0;31mZeroDivisionError\u001b[0m: division by zero"
     ]
    }
   ],
   "source": [
    "10/0"
   ]
  },
  {
   "cell_type": "code",
   "execution_count": 10,
   "id": "85aa41de-dbda-418a-930c-9e45bb1b0f8d",
   "metadata": {},
   "outputs": [
    {
     "name": "stdout",
     "output_type": "stream",
     "text": [
      "Abhinav Lucky\n",
      "AbhinavLucky\n"
     ]
    }
   ],
   "source": [
    "print(\"Abhinav\" + \" \" + \"Lucky\")\n",
    "print(\"Abhinav\" + \"\" + \"Lucky\")"
   ]
  },
  {
   "cell_type": "code",
   "execution_count": 11,
   "id": "1f698b33-4c42-4cdc-a90f-488a256ff892",
   "metadata": {},
   "outputs": [],
   "source": [
    "a = 10\n",
    "b = 20"
   ]
  },
  {
   "cell_type": "code",
   "execution_count": 12,
   "id": "a4a610c7-48f6-4c74-95a5-9f7a02a95e46",
   "metadata": {},
   "outputs": [
    {
     "data": {
      "text/plain": [
       "(20, 40, 400, 100, 30, -10, 0.5, 2.0, 0, 2)"
      ]
     },
     "execution_count": 12,
     "metadata": {},
     "output_type": "execute_result"
    }
   ],
   "source": [
    "2*a, 2*b, b**2, a**2, a+b, a-b, a/b, b/a, a//b, b//a"
   ]
  },
  {
   "cell_type": "markdown",
   "id": "5c7aaf9c-2bc4-4918-9dc0-8b5e0da8883f",
   "metadata": {},
   "source": [
    "### a/b --> gives you a float (it considers the remainder too, in the answer)\n",
    "### a//b --> gives you an integer (it does not consider the remainder)\n",
    "### a**b --> gives you a^b (base is a, exponent is b)"
   ]
  },
  {
   "cell_type": "code",
   "execution_count": 13,
   "id": "a915ab3d-2b42-42a8-aea4-46954d775bb9",
   "metadata": {},
   "outputs": [
    {
     "name": "stdout",
     "output_type": "stream",
     "text": [
      "300\n"
     ]
    }
   ],
   "source": [
    "print(b*b - a*a)"
   ]
  },
  {
   "cell_type": "code",
   "execution_count": 14,
   "id": "f6dbb208-2ca2-407b-b9a0-891a73ec9ef4",
   "metadata": {},
   "outputs": [
    {
     "name": "stdout",
     "output_type": "stream",
     "text": [
      "300\n"
     ]
    }
   ],
   "source": [
    "print(a*b + 100)"
   ]
  },
  {
   "cell_type": "code",
   "execution_count": 15,
   "id": "e344c7c7-ab1e-4d3e-ba21-b2d239733973",
   "metadata": {},
   "outputs": [
    {
     "name": "stdout",
     "output_type": "stream",
     "text": [
      "210\n"
     ]
    }
   ],
   "source": [
    "print(a+b*10)"
   ]
  },
  {
   "cell_type": "markdown",
   "id": "67b5a8bc-2950-42a8-86a7-cc0252a80a10",
   "metadata": {},
   "source": [
    "# a+1\\*b+a*2"
   ]
  },
  {
   "cell_type": "code",
   "execution_count": 16,
   "id": "23995845-a2f8-4342-8b25-e5f2ae97362e",
   "metadata": {},
   "outputs": [
    {
     "name": "stdout",
     "output_type": "stream",
     "text": [
      "50\n"
     ]
    }
   ],
   "source": [
    "print(a+1*b+a*2)"
   ]
  },
  {
   "cell_type": "markdown",
   "id": "6fded16b-230e-4825-aabc-d18fed3e2a4c",
   "metadata": {},
   "source": [
    "# HOMEWORK"
   ]
  },
  {
   "cell_type": "markdown",
   "id": "b5b3f427-86fb-4d0f-a20d-6f883afe027a",
   "metadata": {},
   "source": [
    "### This is due on 6/2/2024, at 11:59 pm EST\n",
    "### 1. Write a program that tells me your name, age, school, favorite part of summer, and what you like to do.\n",
    "### 2. Write a program that has 2 variables, a and b. You can assign them **INTEGER** values of your choice. Perform these operations:\n",
    "    1. a+b\n",
    "    2. a-b\n",
    "    3. a/b\n",
    "    4. a/b (HINT: without decimal, heard of integer division?)\n",
    "    5. a*b\n",
    "    6. a^b (dont write this one on paper)\n",
    "    7. a^3 (dont write this on paper)\n",
    "    8. b^3 (dont write this on paper)\n",
    "    9. b-a\n",
    "    10. b*b\n",
    "    11. a*a\n",
    "### I want the answers on paper too, please write them on paper for #2, except the ones I mentioned not to note."
   ]
  }
 ],
 "metadata": {
  "kernelspec": {
   "display_name": "Python 3 (ipykernel)",
   "language": "python",
   "name": "python3"
  },
  "language_info": {
   "codemirror_mode": {
    "name": "ipython",
    "version": 3
   },
   "file_extension": ".py",
   "mimetype": "text/x-python",
   "name": "python",
   "nbconvert_exporter": "python",
   "pygments_lexer": "ipython3",
   "version": "3.11.7"
  }
 },
 "nbformat": 4,
 "nbformat_minor": 5
}
