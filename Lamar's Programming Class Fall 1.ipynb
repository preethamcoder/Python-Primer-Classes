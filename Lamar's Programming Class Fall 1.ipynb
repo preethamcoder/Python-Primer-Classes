{
 "cells": [
  {
   "cell_type": "markdown",
   "id": "ccf3b41a-8297-4466-b738-9b128b2f390a",
   "metadata": {},
   "source": [
    "# Lamar's Class"
   ]
  },
  {
   "cell_type": "code",
   "execution_count": 12,
   "id": "224ea957-c0d9-4e37-b84e-93014bd25465",
   "metadata": {},
   "outputs": [
    {
     "name": "stdin",
     "output_type": "stream",
     "text": [
      "Enter your radius:  10\n"
     ]
    }
   ],
   "source": [
    "r = float(input(\"Enter your radius: \"))"
   ]
  },
  {
   "cell_type": "code",
   "execution_count": 5,
   "id": "6485cdaa-195b-4652-ba0c-833eefa7cbf7",
   "metadata": {},
   "outputs": [],
   "source": [
    "import math"
   ]
  },
  {
   "cell_type": "code",
   "execution_count": 7,
   "id": "8c5cf78e-639f-4591-9fde-e460ce0bb68a",
   "metadata": {},
   "outputs": [],
   "source": [
    "pi = math.pi"
   ]
  },
  {
   "cell_type": "code",
   "execution_count": 17,
   "id": "7d0291c2-8f2c-4614-91d4-3c720e92f962",
   "metadata": {},
   "outputs": [
    {
     "name": "stdout",
     "output_type": "stream",
     "text": [
      "314.1592653589793\n"
     ]
    }
   ],
   "source": [
    "# area of a circle = pi * r * r\n",
    "# PROGRAMS DONT CARE ABOUT COMMENTS\n",
    "# YOU CANNOT HAVE SPACES IN A VARIABLE NAME\n",
    "area = pi*r*r\n",
    "print(area)"
   ]
  },
  {
   "cell_type": "code",
   "execution_count": 18,
   "id": "43d1ed06-72a3-46a6-bb87-628ef8280015",
   "metadata": {},
   "outputs": [],
   "source": [
    "# Area of a square\n",
    "# Side length\n",
    "# Def is used to define a function\n",
    "def area_of_square(side):\n",
    "    area_sq = side*side\n",
    "    return area_sq"
   ]
  },
  {
   "cell_type": "code",
   "execution_count": 19,
   "id": "253db723-cacd-426e-ae21-7ee051387937",
   "metadata": {},
   "outputs": [
    {
     "name": "stdin",
     "output_type": "stream",
     "text": [
      "Enter side length:  5\n"
     ]
    },
    {
     "name": "stdout",
     "output_type": "stream",
     "text": [
      "25.0\n"
     ]
    }
   ],
   "source": [
    "# Get the side length from the user\n",
    "s = float(input(\"Enter side length: \"))\n",
    "print(area_of_square(s))"
   ]
  },
  {
   "cell_type": "code",
   "execution_count": 20,
   "id": "43ca191f-6867-4d6c-90c4-4b92a0120a91",
   "metadata": {},
   "outputs": [],
   "source": [
    "# volume of a cube\n",
    "# Formula = side*side*side\n",
    "def volume_of_a_cube(side):\n",
    "    vol = side*side*side\n",
    "    return vol"
   ]
  },
  {
   "cell_type": "code",
   "execution_count": 21,
   "id": "b94dcdc7-8ea4-442b-966c-8f208d899c7e",
   "metadata": {},
   "outputs": [
    {
     "name": "stdin",
     "output_type": "stream",
     "text": [
      "Enter the side length:  8\n"
     ]
    },
    {
     "name": "stdout",
     "output_type": "stream",
     "text": [
      "512.0\n"
     ]
    }
   ],
   "source": [
    "# Get user input\n",
    "side = float(input(\"Enter the side length: \"))\n",
    "print(volume_of_a_cube(side))"
   ]
  },
  {
   "cell_type": "code",
   "execution_count": 22,
   "id": "2c2fe782-064b-4b9f-bd8f-d55af7c1a066",
   "metadata": {},
   "outputs": [],
   "source": [
    "# Area of a rectangle\n",
    "# area = length * width\n",
    "def area_of_rect(length, width):\n",
    "    area = length * width\n",
    "    return area"
   ]
  },
  {
   "cell_type": "code",
   "execution_count": 23,
   "id": "57d05bc9-221b-4a89-af5d-2db895797b1d",
   "metadata": {},
   "outputs": [
    {
     "name": "stdin",
     "output_type": "stream",
     "text": [
      "Enter the length:  8\n",
      "Enter the width:  4\n"
     ]
    },
    {
     "name": "stdout",
     "output_type": "stream",
     "text": [
      "32.0\n"
     ]
    }
   ],
   "source": [
    "# get user input\n",
    "l = float(input(\"Enter the length: \"))\n",
    "w = float(input(\"Enter the width: \"))\n",
    "print(area_of_rect(l, w))"
   ]
  },
  {
   "cell_type": "code",
   "execution_count": 24,
   "id": "a39f3df4-e303-4060-a819-6cd441733bc9",
   "metadata": {},
   "outputs": [],
   "source": [
    "# Volume of a rectangular prism\n",
    "# volume = length * width * height \n",
    "def vol_of_rect_prism(length, width, height):\n",
    "    vol = length*width*height\n",
    "    return vol"
   ]
  },
  {
   "cell_type": "code",
   "execution_count": 25,
   "id": "3b5097e2-9a1d-4bd8-8cf4-bf712a5d2cd1",
   "metadata": {},
   "outputs": [
    {
     "name": "stdin",
     "output_type": "stream",
     "text": [
      "Enter your length:  2\n",
      "Enter the width:  6\n",
      "Enter the height:  5\n"
     ]
    },
    {
     "name": "stdout",
     "output_type": "stream",
     "text": [
      "60.0\n"
     ]
    }
   ],
   "source": [
    "l = float(input(\"Enter your length: \"))\n",
    "w = float(input(\"Enter the width: \"))\n",
    "h = float(input(\"Enter the height: \"))\n",
    "print(vol_of_rect_prism(l, w, h))"
   ]
  },
  {
   "cell_type": "code",
   "execution_count": 28,
   "id": "81cd41c9-0db9-4fed-8d38-c984a6eb0165",
   "metadata": {},
   "outputs": [],
   "source": [
    "# Volume of a spehere\n",
    "# vol = 4*pi*r*r*r/3\n",
    "def vol_sphere(rad):\n",
    "    vol = 4*pi*r*r*r/3\n",
    "    return vol"
   ]
  },
  {
   "cell_type": "code",
   "execution_count": 29,
   "id": "a04b2443-e874-48d2-b97d-d27100e4d16c",
   "metadata": {},
   "outputs": [
    {
     "name": "stdin",
     "output_type": "stream",
     "text": [
      "Enter your radius:  1\n"
     ]
    },
    {
     "name": "stdout",
     "output_type": "stream",
     "text": [
      "4.1887902047863905\n"
     ]
    }
   ],
   "source": [
    "# Get user input\n",
    "r = float(input(\"Enter your radius: \"))\n",
    "print(vol_sphere(r))"
   ]
  },
  {
   "cell_type": "code",
   "execution_count": null,
   "id": "4df64036-30fc-4933-85ab-df3f7b3495a1",
   "metadata": {},
   "outputs": [],
   "source": []
  }
 ],
 "metadata": {
  "kernelspec": {
   "display_name": "Python 3 (ipykernel)",
   "language": "python",
   "name": "python3"
  },
  "language_info": {
   "codemirror_mode": {
    "name": "ipython",
    "version": 3
   },
   "file_extension": ".py",
   "mimetype": "text/x-python",
   "name": "python",
   "nbconvert_exporter": "python",
   "pygments_lexer": "ipython3",
   "version": "3.8.10"
  }
 },
 "nbformat": 4,
 "nbformat_minor": 5
}
