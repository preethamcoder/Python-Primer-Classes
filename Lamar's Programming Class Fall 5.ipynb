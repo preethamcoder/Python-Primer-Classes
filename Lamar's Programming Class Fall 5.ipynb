{
 "cells": [
  {
   "cell_type": "code",
   "execution_count": 1,
   "id": "00f6de6d-42ea-4234-b7b6-f73f11cb8a55",
   "metadata": {},
   "outputs": [
    {
     "name": "stdout",
     "output_type": "stream",
     "text": [
      "Swarnesh meme\n"
     ]
    }
   ],
   "source": [
    "name = \"swarneshhhhh\"\n",
    "if len(name) > 8:\n",
    "    print(\"Swarnesh meme\")\n",
    "else:\n",
    "    print(\"Nikesh meme\")"
   ]
  },
  {
   "cell_type": "markdown",
   "id": "f84a6c3f-0a2e-4601-a178-2d1e09f270fb",
   "metadata": {},
   "source": [
    "### Print out all multiples of 5 between 5 and 50"
   ]
  },
  {
   "cell_type": "code",
   "execution_count": 3,
   "id": "5ab8865c-300a-4ff2-a407-7489ee8ff2f4",
   "metadata": {},
   "outputs": [
    {
     "name": "stdout",
     "output_type": "stream",
     "text": [
      "5\n",
      "10\n",
      "15\n",
      "20\n",
      "25\n",
      "30\n",
      "35\n",
      "40\n",
      "45\n",
      "50\n"
     ]
    }
   ],
   "source": [
    "for ind in range(5, 51, 5):\n",
    "    print(ind)"
   ]
  },
  {
   "cell_type": "markdown",
   "id": "56ee7d44-d343-46f3-80ee-8e6e39e767b3",
   "metadata": {},
   "source": [
    "### Print out all odd numbers between 0 and 20"
   ]
  },
  {
   "cell_type": "code",
   "execution_count": 4,
   "id": "2d163866-a86f-4ab0-af13-5491fcbf6a6f",
   "metadata": {},
   "outputs": [
    {
     "name": "stdout",
     "output_type": "stream",
     "text": [
      "1\n",
      "3\n",
      "5\n",
      "7\n",
      "9\n",
      "11\n",
      "13\n",
      "15\n",
      "17\n",
      "19\n"
     ]
    }
   ],
   "source": [
    "for ind in range(1, 21, 2):\n",
    "    print(ind)"
   ]
  },
  {
   "cell_type": "markdown",
   "id": "72a4de10-c89b-4938-99e3-5726cc663a29",
   "metadata": {},
   "source": [
    "### Print all even numbers between 11 and 35"
   ]
  },
  {
   "cell_type": "code",
   "execution_count": 6,
   "id": "1be93ec6-ed69-413f-be2b-ab489bef3ad1",
   "metadata": {},
   "outputs": [
    {
     "name": "stdout",
     "output_type": "stream",
     "text": [
      "12\n",
      "14\n",
      "16\n",
      "18\n",
      "20\n",
      "22\n",
      "24\n",
      "26\n",
      "28\n",
      "30\n",
      "32\n",
      "34\n"
     ]
    }
   ],
   "source": [
    "for ind in range(12, 35, 2):\n",
    "    print(ind)"
   ]
  },
  {
   "cell_type": "markdown",
   "id": "f02d4226-9965-4934-9b1c-7c4b5b4e14a8",
   "metadata": {},
   "source": [
    "### Print out all multiples of 11 between 0 and 110"
   ]
  },
  {
   "cell_type": "code",
   "execution_count": 7,
   "id": "1961b2b6-8ca6-4841-ac33-cb5595f8cec7",
   "metadata": {},
   "outputs": [
    {
     "name": "stdout",
     "output_type": "stream",
     "text": [
      "11\n",
      "22\n",
      "33\n",
      "44\n",
      "55\n",
      "66\n",
      "77\n",
      "88\n",
      "99\n",
      "110\n"
     ]
    }
   ],
   "source": [
    "for ind in range(11, 111, 11):\n",
    "    print(ind)"
   ]
  },
  {
   "cell_type": "markdown",
   "id": "a22e8089-baf9-4edb-81f5-6e807c690f15",
   "metadata": {},
   "source": [
    "### Print out all the multiples of 7 between 20 and 40"
   ]
  },
  {
   "cell_type": "code",
   "execution_count": 8,
   "id": "d8dd1429-e646-4c2b-945a-5573d9e6891e",
   "metadata": {},
   "outputs": [
    {
     "name": "stdout",
     "output_type": "stream",
     "text": [
      "21\n",
      "28\n",
      "35\n"
     ]
    }
   ],
   "source": [
    "for ind in range(21, 41, 7):\n",
    "    print(ind)"
   ]
  },
  {
   "cell_type": "markdown",
   "id": "0f18dbfc-dfd9-4229-b84a-52af57c64304",
   "metadata": {},
   "source": [
    "### Print out all multiples of 21 between 20 and 100"
   ]
  },
  {
   "cell_type": "code",
   "execution_count": 9,
   "id": "35d074f1-35e1-4b3e-8afd-a7604c5b6ba5",
   "metadata": {},
   "outputs": [
    {
     "name": "stdout",
     "output_type": "stream",
     "text": [
      "21\n",
      "42\n",
      "63\n",
      "84\n"
     ]
    }
   ],
   "source": [
    "for ind in range(21, 100, 21):\n",
    "    print(ind)"
   ]
  },
  {
   "cell_type": "markdown",
   "id": "c9841c51-dc25-4ee0-8e11-f078d59129f4",
   "metadata": {},
   "source": [
    "### Print out squares of all numbers between 1 and 15"
   ]
  },
  {
   "cell_type": "code",
   "execution_count": 10,
   "id": "6d044c17-1bd1-4800-9df8-cbb7e3661026",
   "metadata": {},
   "outputs": [
    {
     "name": "stdout",
     "output_type": "stream",
     "text": [
      "1\n",
      "4\n",
      "9\n",
      "16\n",
      "25\n",
      "36\n",
      "49\n",
      "64\n",
      "81\n",
      "100\n",
      "121\n",
      "144\n",
      "169\n",
      "196\n",
      "225\n"
     ]
    }
   ],
   "source": [
    "for ind in range(1, 16):\n",
    "    print(ind**2)"
   ]
  },
  {
   "cell_type": "markdown",
   "id": "812130f9-1250-4407-9d9e-455c38cdc498",
   "metadata": {},
   "source": [
    "### Print out the cubes of all numbers between 1 and 10"
   ]
  },
  {
   "cell_type": "code",
   "execution_count": 11,
   "id": "cd2a0dff-a33a-4559-9b3b-e54d6794f70b",
   "metadata": {},
   "outputs": [
    {
     "name": "stdout",
     "output_type": "stream",
     "text": [
      "1\n",
      "8\n",
      "27\n",
      "64\n",
      "125\n",
      "216\n",
      "343\n",
      "512\n",
      "729\n",
      "1000\n"
     ]
    }
   ],
   "source": [
    "for ind in range(1, 11):\n",
    "    print(ind**3)"
   ]
  },
  {
   "cell_type": "markdown",
   "id": "f80ee8d1-d320-4739-be43-bf5be56a7054",
   "metadata": {},
   "source": [
    "### Print out all even numbers between 40 and 100"
   ]
  },
  {
   "cell_type": "code",
   "execution_count": 14,
   "id": "730aca48-0d93-4ce7-b6a9-4150e66451f1",
   "metadata": {},
   "outputs": [
    {
     "name": "stdout",
     "output_type": "stream",
     "text": [
      "40\n",
      "42\n",
      "44\n",
      "46\n",
      "48\n",
      "50\n",
      "52\n",
      "54\n",
      "56\n",
      "58\n",
      "60\n",
      "62\n",
      "64\n",
      "66\n",
      "68\n",
      "70\n",
      "72\n",
      "74\n",
      "76\n",
      "78\n",
      "80\n",
      "82\n",
      "84\n",
      "86\n",
      "88\n",
      "90\n",
      "92\n",
      "94\n",
      "96\n",
      "98\n",
      "100\n"
     ]
    }
   ],
   "source": [
    "for ind in range(40, 101, 2):\n",
    "    print(ind)"
   ]
  },
  {
   "cell_type": "markdown",
   "id": "58562410-b1f0-4f89-9b72-86b2be45d9cf",
   "metadata": {},
   "source": [
    "### Print out all numbers between 10 and 20 that are even"
   ]
  },
  {
   "cell_type": "code",
   "execution_count": 15,
   "id": "3ab07b37-4592-422c-b51a-efac1714797c",
   "metadata": {},
   "outputs": [
    {
     "name": "stdout",
     "output_type": "stream",
     "text": [
      "10\n",
      "12\n",
      "14\n",
      "16\n",
      "18\n",
      "20\n"
     ]
    }
   ],
   "source": [
    "for ind in range(10, 21, 2):\n",
    "    print(ind)"
   ]
  },
  {
   "cell_type": "markdown",
   "id": "63a2d5d5-2c96-4ce5-a2c6-042198d3e857",
   "metadata": {},
   "source": [
    "# HOMEWORK"
   ]
  },
  {
   "cell_type": "markdown",
   "id": "96c46f5f-37f6-4c79-af75-6cf1e6182f7d",
   "metadata": {},
   "source": [
    "### Allow the user to input a number. Check if the number is even, and print \"EVEN STRIKE\" if it is even. If it is not even, print \"BAD STRIKE.\""
   ]
  },
  {
   "cell_type": "code",
   "execution_count": null,
   "id": "165839d8-791f-4969-8e0c-2ccb1f830ac6",
   "metadata": {},
   "outputs": [],
   "source": []
  }
 ],
 "metadata": {
  "kernelspec": {
   "display_name": "Python 3 (ipykernel)",
   "language": "python",
   "name": "python3"
  },
  "language_info": {
   "codemirror_mode": {
    "name": "ipython",
    "version": 3
   },
   "file_extension": ".py",
   "mimetype": "text/x-python",
   "name": "python",
   "nbconvert_exporter": "python",
   "pygments_lexer": "ipython3",
   "version": "3.8.10"
  }
 },
 "nbformat": 4,
 "nbformat_minor": 5
}
