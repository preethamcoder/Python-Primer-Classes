{
 "cells": [
  {
   "cell_type": "code",
   "execution_count": 1,
   "id": "72763519-07ca-40b6-9224-2e5ea0a5c042",
   "metadata": {},
   "outputs": [
    {
     "data": {
      "text/plain": [
       "'preetham, lucky'"
      ]
     },
     "execution_count": 1,
     "metadata": {},
     "output_type": "execute_result"
    }
   ],
   "source": [
    "name = \"preetham, lucky\"\n",
    "name"
   ]
  },
  {
   "cell_type": "code",
   "execution_count": 1,
   "id": "2dd7e0f7-5c3f-4c29-b4a9-3f4a64f86f2b",
   "metadata": {},
   "outputs": [
    {
     "data": {
      "text/plain": [
       "(str, int, float, bool, str)"
      ]
     },
     "execution_count": 1,
     "metadata": {},
     "output_type": "execute_result"
    }
   ],
   "source": [
    "type(\"adfjhwef\") , type(1), type(2.3), type(True), type(\"True\")"
   ]
  },
  {
   "cell_type": "markdown",
   "id": "1aa1f759-4a2a-40a7-ad00-93461cccbe01",
   "metadata": {},
   "source": [
    "# Conditionals!"
   ]
  },
  {
   "cell_type": "markdown",
   "id": "d44b89de-9119-4bc0-8657-ac41ca039c55",
   "metadata": {},
   "source": [
    "Conditions are important because without them, the world is a chaotic mess!"
   ]
  },
  {
   "cell_type": "markdown",
   "id": "867fcee3-1f9a-4d27-9964-7057dc405d93",
   "metadata": {},
   "source": [
    "We need this, because **NOT ONE SIZE FITS ALL**"
   ]
  },
  {
   "cell_type": "markdown",
   "id": "6114e9b9-cb81-4d81-bf4e-aaba6a95431e",
   "metadata": {},
   "source": [
    "Execute our code based on certain things. You cant run the same code for every thing. "
   ]
  },
  {
   "cell_type": "markdown",
   "id": "8126d51e-7bdf-474b-99d4-cb09d04c466a",
   "metadata": {},
   "source": [
    "### We use the ```if``` word"
   ]
  },
  {
   "cell_type": "code",
   "execution_count": 5,
   "id": "b826304b-96d3-4e44-8939-8fb96574dedc",
   "metadata": {},
   "outputs": [
    {
     "data": {
      "text/plain": [
       "True"
      ]
     },
     "execution_count": 5,
     "metadata": {},
     "output_type": "execute_result"
    }
   ],
   "source": [
    "10 < 20"
   ]
  },
  {
   "cell_type": "markdown",
   "id": "58cc4d83-8da7-4329-8ff2-64358e11a92a",
   "metadata": {},
   "source": [
    "### Piece of code after an if is called a condition. If that is true, we run the code under the if. Or else, we do other things."
   ]
  },
  {
   "cell_type": "markdown",
   "id": "30a18914-fbac-4b13-95ec-8ab2025dc9ac",
   "metadata": {},
   "source": [
    "### What are the other things? You would either have an else, or another condition with else if, or just nothing at all!"
   ]
  },
  {
   "cell_type": "code",
   "execution_count": 12,
   "id": "cd73aa06-9fa1-4a67-95c1-c77c771af400",
   "metadata": {},
   "outputs": [
    {
     "name": "stdout",
     "output_type": "stream",
     "text": [
      "Nothing\n"
     ]
    }
   ],
   "source": [
    "if 10 > 20:\n",
    "    print(\"Lohith is a good boy\")\n",
    "elif 0 > 1:\n",
    "    print(\"Preetham is very hard on us\")\n",
    "else:\n",
    "    print(\"Nothing\")"
   ]
  },
  {
   "cell_type": "markdown",
   "id": "9f5fe198-eac5-4ee4-adb6-2844af526f1b",
   "metadata": {},
   "source": [
    "### The if statement looks for the first condition that is true in the block! If there is no \"TRUE\" condition, we execute the else part.\n",
    "Or else, we jsut move out of the block, if there is no else."
   ]
  },
  {
   "cell_type": "code",
   "execution_count": 2,
   "id": "a75eb3f6-61ae-40c0-86ac-ece3286fe474",
   "metadata": {},
   "outputs": [
    {
     "name": "stdout",
     "output_type": "stream",
     "text": [
      "b is the bigger number and the sum greater than 30\n"
     ]
    }
   ],
   "source": [
    "a = 10\n",
    "b = 22\n",
    "if a+b >= 30:\n",
    "    if b > a:\n",
    "        print(\"b is the bigger number and the sum greater than 30\")\n",
    "    else:\n",
    "        print(\"a is the bigger number and the sum is greater than 30\")"
   ]
  },
  {
   "cell_type": "code",
   "execution_count": 3,
   "id": "2b5014ac-0db2-4f31-b51e-90cc27a94bf8",
   "metadata": {},
   "outputs": [
    {
     "name": "stdout",
     "output_type": "stream",
     "text": [
      "This class is confusing bro\n"
     ]
    }
   ],
   "source": [
    "a = 22\n",
    "b = 30\n",
    "if a - b > 0:\n",
    "    if b < 30:\n",
    "        print(\"b is less than 30\")\n",
    "    else:\n",
    "        print(\"b is not less than 30\")\n",
    "else:\n",
    "    if a > 20:\n",
    "        print(\"This class is confusing bro\")\n",
    "    elif b > a:\n",
    "        print(\"bro stop playing\")\n",
    "    else:\n",
    "        print(\"This is a scam\")"
   ]
  },
  {
   "cell_type": "markdown",
   "id": "708121ec-5e17-499a-bc67-3203a06782c3",
   "metadata": {},
   "source": [
    "# Can you sell this person alcohol or not?"
   ]
  },
  {
   "cell_type": "markdown",
   "id": "cf79fd32-8675-44fe-bec8-cc831ff2c3de",
   "metadata": {},
   "source": [
    "### Legal age is 21, btw"
   ]
  },
  {
   "cell_type": "code",
   "execution_count": 7,
   "id": "43ff61c2-8647-464b-874e-e1ef4e392704",
   "metadata": {},
   "outputs": [
    {
     "name": "stdin",
     "output_type": "stream",
     "text": [
      "Enter your age:  14\n"
     ]
    },
    {
     "name": "stdout",
     "output_type": "stream",
     "text": [
      "You canont get alcohol\n"
     ]
    }
   ],
   "source": [
    "# Write code here\n",
    "age = int(input(\"Enter your age: \"))\n",
    "# How are we gonna do this?\n",
    "if age < 21:\n",
    "    print(\"You canont get alcohol\")\n",
    "elif age >= 21:\n",
    "    print(\"You can get alcohol\")"
   ]
  },
  {
   "cell_type": "markdown",
   "id": "9b242700-33de-4826-9ffe-c080d64474ab",
   "metadata": {},
   "source": [
    "# Can you vote?"
   ]
  },
  {
   "cell_type": "markdown",
   "id": "6203eab8-1d9c-4cf7-84a7-a28fad77608a",
   "metadata": {},
   "source": [
    "### Legal age is 18"
   ]
  },
  {
   "cell_type": "code",
   "execution_count": 10,
   "id": "f4e1c604-354d-42e0-b982-cc9883528c51",
   "metadata": {},
   "outputs": [
    {
     "name": "stdin",
     "output_type": "stream",
     "text": [
      "Enter your age:  30\n"
     ]
    },
    {
     "name": "stdout",
     "output_type": "stream",
     "text": [
      "You can vote\n"
     ]
    }
   ],
   "source": [
    "# Write code here\n",
    "age = int(input(\"Enter your age: \"))\n",
    "# How are we gonna do it?\n",
    "if age >= 18:\n",
    "    print(\"You can vote\")\n",
    "else:\n",
    "    print(\"You cannot vote\")"
   ]
  },
  {
   "cell_type": "markdown",
   "id": "384f78f4-d597-452f-8e50-a972378c0037",
   "metadata": {},
   "source": [
    "# Can you fly alone?"
   ]
  },
  {
   "cell_type": "markdown",
   "id": "56b7a605-8723-4d08-a8e5-6f9c0df00ef3",
   "metadata": {},
   "source": [
    "### Legal age is 13 for domestic in the US. But 14 year olds cannot fly alone. Custom world"
   ]
  },
  {
   "cell_type": "code",
   "execution_count": 19,
   "id": "f4a3a932-58e8-420f-95f5-83aea1993bea",
   "metadata": {},
   "outputs": [
    {
     "name": "stdin",
     "output_type": "stream",
     "text": [
      "Enter your age:  30\n"
     ]
    },
    {
     "name": "stdout",
     "output_type": "stream",
     "text": [
      "You can fly alone\n"
     ]
    }
   ],
   "source": [
    "# Write code here\n",
    "age = int(input(\"Enter your age: \"))\n",
    "# How are we gonna do it?\n",
    "if age == 14:\n",
    "    print(\"You cannot fly alone\")\n",
    "elif age >= 13:\n",
    "    print(\"You can fly alone\")\n",
    "else:\n",
    "    print(\"You cannot fly alone\")"
   ]
  }
 ],
 "metadata": {
  "kernelspec": {
   "display_name": "Python 3 (ipykernel)",
   "language": "python",
   "name": "python3"
  },
  "language_info": {
   "codemirror_mode": {
    "name": "ipython",
    "version": 3
   },
   "file_extension": ".py",
   "mimetype": "text/x-python",
   "name": "python",
   "nbconvert_exporter": "python",
   "pygments_lexer": "ipython3",
   "version": "3.8.10"
  }
 },
 "nbformat": 4,
 "nbformat_minor": 5
}
