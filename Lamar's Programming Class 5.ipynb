{
 "cells": [
  {
   "cell_type": "markdown",
   "id": "bfa3f86c-8e65-412b-8f44-4b7c6b82a047",
   "metadata": {},
   "source": [
    "# Lists"
   ]
  },
  {
   "cell_type": "markdown",
   "id": "15903ec6-95f3-4cb1-9cf0-a7ce3204fd3a",
   "metadata": {},
   "source": [
    "### Exactly what it sounds like - like your everyday shopping list"
   ]
  },
  {
   "cell_type": "markdown",
   "id": "63d3d033-35f7-4098-b25b-cfa77a20a01f",
   "metadata": {},
   "source": [
    "It helps you store information together. Strings are just lists of individual characters!"
   ]
  },
  {
   "cell_type": "code",
   "execution_count": 1,
   "id": "c79f449a-7d88-407d-a4e5-3194390cd854",
   "metadata": {},
   "outputs": [],
   "source": [
    "activities = [\"jump\", \"jack\", \"attack\", \"shoot\"]"
   ]
  },
  {
   "cell_type": "code",
   "execution_count": 2,
   "id": "ea960fdf-e234-43e5-98b7-fa34b74bee62",
   "metadata": {},
   "outputs": [
    {
     "data": {
      "text/plain": [
       "'a'"
      ]
     },
     "execution_count": 2,
     "metadata": {},
     "output_type": "execute_result"
    }
   ],
   "source": [
    "\"abhinav\"[0]"
   ]
  },
  {
   "cell_type": "code",
   "execution_count": 5,
   "id": "90296ec5-faf1-44c4-9a3b-d21b692679b4",
   "metadata": {},
   "outputs": [
    {
     "data": {
      "text/plain": [
       "('jump', 'jack', 'attack', 'shoot')"
      ]
     },
     "execution_count": 5,
     "metadata": {},
     "output_type": "execute_result"
    }
   ],
   "source": [
    "activities[0], activities[1], activities[2], activities[3]"
   ]
  },
  {
   "cell_type": "markdown",
   "id": "89b5f810-973a-4e23-8e4e-d4157dbbb82d",
   "metadata": {},
   "source": [
    "Just like strings, lists are 0-indexed. Which means, 0 gives the first elements, 1 gives the second, and so on.."
   ]
  },
  {
   "cell_type": "markdown",
   "id": "800c5c47-5d82-4c85-81a7-cbc08138cacb",
   "metadata": {},
   "source": [
    "| l | e | n 1,2,3,4,5"
   ]
  },
  {
   "cell_type": "code",
   "execution_count": 6,
   "id": "d7d1f8db-b58c-4d2b-8520-f31b4253f575",
   "metadata": {},
   "outputs": [
    {
     "data": {
      "text/plain": [
       "7"
      ]
     },
     "execution_count": 6,
     "metadata": {},
     "output_type": "execute_result"
    }
   ],
   "source": [
    "len(\"abhinav\")"
   ]
  },
  {
   "cell_type": "code",
   "execution_count": 7,
   "id": "ad3a4b1f-5835-4d1c-93c2-ae3082b0a122",
   "metadata": {},
   "outputs": [
    {
     "data": {
      "text/plain": [
       "5"
      ]
     },
     "execution_count": 7,
     "metadata": {},
     "output_type": "execute_result"
    }
   ],
   "source": [
    "name = \"lucky\"\n",
    "len(name)"
   ]
  },
  {
   "cell_type": "code",
   "execution_count": 8,
   "id": "41e42f68-b220-486b-9aff-fc2f3b98cf48",
   "metadata": {},
   "outputs": [
    {
     "data": {
      "text/plain": [
       "4"
      ]
     },
     "execution_count": 8,
     "metadata": {},
     "output_type": "execute_result"
    }
   ],
   "source": [
    "len(activities)"
   ]
  },
  {
   "cell_type": "code",
   "execution_count": 9,
   "id": "58cb1597-a67a-4ee2-b0ca-747fba431300",
   "metadata": {},
   "outputs": [],
   "source": [
    "dummy_list = [1, 2, 3, 4, 5, 6, 7, 8, \"hello\", \"wood\"]"
   ]
  },
  {
   "cell_type": "code",
   "execution_count": 10,
   "id": "772b1ea4-a702-4760-8a04-8d0e717bc929",
   "metadata": {},
   "outputs": [
    {
     "data": {
      "text/plain": [
       "10"
      ]
     },
     "execution_count": 10,
     "metadata": {},
     "output_type": "execute_result"
    }
   ],
   "source": [
    "len(dummy_list)"
   ]
  },
  {
   "cell_type": "code",
   "execution_count": 11,
   "id": "7ca50fa7-fef0-4afb-b5eb-dbbbee397c09",
   "metadata": {},
   "outputs": [
    {
     "data": {
      "text/plain": [
       "(14, 1)"
      ]
     },
     "execution_count": 11,
     "metadata": {},
     "output_type": "execute_result"
    }
   ],
   "source": [
    "len(\"asdfrtghjklqwe\"), len([\"asdfrtghjklqwe\"])"
   ]
  },
  {
   "cell_type": "code",
   "execution_count": 12,
   "id": "0de75a08-e4b5-4223-88eb-3f06879a24c7",
   "metadata": {},
   "outputs": [
    {
     "data": {
      "text/plain": [
       "(str, list)"
      ]
     },
     "execution_count": 12,
     "metadata": {},
     "output_type": "execute_result"
    }
   ],
   "source": [
    "type(\"abhinav\"), type([\"abhinav\"])"
   ]
  },
  {
   "cell_type": "code",
   "execution_count": 13,
   "id": "bf4f308d-3548-4aba-bfab-c0c1fca8d72e",
   "metadata": {},
   "outputs": [],
   "source": [
    "empty_list = []"
   ]
  },
  {
   "cell_type": "markdown",
   "id": "5b2990f0-5090-4c07-a312-33630ddc0cf1",
   "metadata": {},
   "source": [
    "### You can add stuff to a list with the \"APPEND\" method. append() adds something to the end of a list"
   ]
  },
  {
   "cell_type": "code",
   "execution_count": 14,
   "id": "4a99727b-4c00-4ba1-966f-6a033e2dbc00",
   "metadata": {},
   "outputs": [
    {
     "data": {
      "text/plain": [
       "0"
      ]
     },
     "execution_count": 14,
     "metadata": {},
     "output_type": "execute_result"
    }
   ],
   "source": [
    "len(empty_list)"
   ]
  },
  {
   "cell_type": "code",
   "execution_count": 15,
   "id": "b434d129-6cfb-4a1b-803c-3e21cdf958d6",
   "metadata": {},
   "outputs": [
    {
     "data": {
      "text/plain": [
       "10"
      ]
     },
     "execution_count": 15,
     "metadata": {},
     "output_type": "execute_result"
    }
   ],
   "source": [
    "len(\"empty_list\")"
   ]
  },
  {
   "cell_type": "code",
   "execution_count": 16,
   "id": "99e7fb72-03ad-4306-8dba-1cf59325a279",
   "metadata": {},
   "outputs": [],
   "source": [
    "empty_list.append(\"ninja technique\")\n",
    "empty_list.append(\"hello\")\n",
    "empty_list.append(\"Prof. Lamar is the best\")\n",
    "empty_list.append(\"Lamar's Math and Programming classes are the best\")"
   ]
  },
  {
   "cell_type": "code",
   "execution_count": 17,
   "id": "c21c1878-29e0-48cb-8724-84b3e7bf2b0f",
   "metadata": {},
   "outputs": [
    {
     "data": {
      "text/plain": [
       "['ninja technique',\n",
       " 'hello',\n",
       " 'Prof. Lamar is the best',\n",
       " \"Lamar's Math and Programming classes are the best\"]"
      ]
     },
     "execution_count": 17,
     "metadata": {},
     "output_type": "execute_result"
    }
   ],
   "source": [
    "empty_list"
   ]
  },
  {
   "cell_type": "code",
   "execution_count": 18,
   "id": "86280ee9-d821-4cb8-8774-65e4b4a5eb2d",
   "metadata": {},
   "outputs": [
    {
     "data": {
      "text/plain": [
       "4"
      ]
     },
     "execution_count": 18,
     "metadata": {},
     "output_type": "execute_result"
    }
   ],
   "source": [
    "len(empty_list)"
   ]
  },
  {
   "cell_type": "markdown",
   "id": "4d924578-c557-49fb-b019-a67eab03a030",
   "metadata": {},
   "source": [
    "### Don't want something? How do we get rid of it?"
   ]
  },
  {
   "cell_type": "markdown",
   "id": "7877cd83-6c9a-4361-8976-33f48bf16124",
   "metadata": {},
   "source": [
    "We use the method remove() to take something off a list"
   ]
  },
  {
   "cell_type": "code",
   "execution_count": 19,
   "id": "b7cb02b8-33be-4565-a8bb-f8c3bc36b9c4",
   "metadata": {},
   "outputs": [],
   "source": [
    "empty_list.remove(\"hello\")"
   ]
  },
  {
   "cell_type": "code",
   "execution_count": 20,
   "id": "5f924d73-69ee-4955-8af0-111f09330775",
   "metadata": {},
   "outputs": [
    {
     "data": {
      "text/plain": [
       "['ninja technique',\n",
       " 'Prof. Lamar is the best',\n",
       " \"Lamar's Math and Programming classes are the best\"]"
      ]
     },
     "execution_count": 20,
     "metadata": {},
     "output_type": "execute_result"
    }
   ],
   "source": [
    "empty_list"
   ]
  }
 ],
 "metadata": {
  "kernelspec": {
   "display_name": "Python 3 (ipykernel)",
   "language": "python",
   "name": "python3"
  },
  "language_info": {
   "codemirror_mode": {
    "name": "ipython",
    "version": 3
   },
   "file_extension": ".py",
   "mimetype": "text/x-python",
   "name": "python",
   "nbconvert_exporter": "python",
   "pygments_lexer": "ipython3",
   "version": "3.11.7"
  }
 },
 "nbformat": 4,
 "nbformat_minor": 5
}
