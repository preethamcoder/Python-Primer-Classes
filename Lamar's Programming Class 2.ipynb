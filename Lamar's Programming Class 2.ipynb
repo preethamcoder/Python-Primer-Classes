{
 "cells": [
  {
   "cell_type": "markdown",
   "id": "d0228be7-126e-44f0-b4cb-068f3e58ee1e",
   "metadata": {},
   "source": [
    "# Strings and Numbers"
   ]
  },
  {
   "cell_type": "markdown",
   "id": "6a2dd371-b5e4-400c-b2a1-fcc02f20533d",
   "metadata": {},
   "source": [
    "### Strings:"
   ]
  },
  {
   "cell_type": "markdown",
   "id": "9215948c-2a05-4be1-91f1-7706ba579da9",
   "metadata": {},
   "source": [
    "They can contain letters (A-Z, a-z), numbers (0-9), and special characters(_, -, >, <, !, @, #, $< % ETC..)."
   ]
  },
  {
   "cell_type": "code",
   "execution_count": 1,
   "id": "96f5e392-2018-44af-abd7-8d9f71ab2941",
   "metadata": {},
   "outputs": [],
   "source": [
    "string1 = \"lucky is a samurai who can figh tlike 12389461jhgf8239456)( !@#*^&$%&^hjkdwqfgkewuf2d\""
   ]
  },
  {
   "cell_type": "code",
   "execution_count": 2,
   "id": "c1ec41a8-4c0f-4472-a556-e140daeac59c",
   "metadata": {},
   "outputs": [
    {
     "name": "stdout",
     "output_type": "stream",
     "text": [
      "lucky is a samurai who can figh tlike 12389461jhgf8239456)( !@#*^&$%&^hjkdwqfgkewuf2d\n"
     ]
    }
   ],
   "source": [
    "print(string1)"
   ]
  },
  {
   "cell_type": "markdown",
   "id": "c5043933-308f-4d7a-af2b-f905c2ee89ff",
   "metadata": {},
   "source": [
    "Every string is supposed to ether start with a ```\"``` or a ```'``` and end with the same"
   ]
  },
  {
   "cell_type": "code",
   "execution_count": 3,
   "id": "44085c8c-7be9-4a6a-a16a-bec74f0cd188",
   "metadata": {},
   "outputs": [
    {
     "ename": "SyntaxError",
     "evalue": "unterminated string literal (detected at line 1) (2861683602.py, line 1)",
     "output_type": "error",
     "traceback": [
      "\u001b[0;36m  Cell \u001b[0;32mIn[3], line 1\u001b[0;36m\u001b[0m\n\u001b[0;31m    string2 = jkehrgwieru\"\u001b[0m\n\u001b[0m                         ^\u001b[0m\n\u001b[0;31mSyntaxError\u001b[0m\u001b[0;31m:\u001b[0m unterminated string literal (detected at line 1)\n"
     ]
    }
   ],
   "source": [
    "string2 = jkehrgwieru\""
   ]
  },
  {
   "cell_type": "code",
   "execution_count": 4,
   "id": "bf9caf0a-3129-4150-88e9-6961db0c1778",
   "metadata": {},
   "outputs": [
    {
     "ename": "SyntaxError",
     "evalue": "unterminated string literal (detected at line 1) (146791242.py, line 1)",
     "output_type": "error",
     "traceback": [
      "\u001b[0;36m  Cell \u001b[0;32mIn[4], line 1\u001b[0;36m\u001b[0m\n\u001b[0;31m    string3 = \"ejwrfhwigf\u001b[0m\n\u001b[0m              ^\u001b[0m\n\u001b[0;31mSyntaxError\u001b[0m\u001b[0;31m:\u001b[0m unterminated string literal (detected at line 1)\n"
     ]
    }
   ],
   "source": [
    "string3 = \"ejwrfhwigf"
   ]
  },
  {
   "cell_type": "code",
   "execution_count": 5,
   "id": "ef33f9f6-90c3-4d30-bae7-6767684b6d74",
   "metadata": {},
   "outputs": [
    {
     "ename": "NameError",
     "evalue": "name 'jksadhfgoweyirfg' is not defined",
     "output_type": "error",
     "traceback": [
      "\u001b[0;31m---------------------------------------------------------------------------\u001b[0m",
      "\u001b[0;31mNameError\u001b[0m                                 Traceback (most recent call last)",
      "Cell \u001b[0;32mIn[5], line 1\u001b[0m\n\u001b[0;32m----> 1\u001b[0m string4 \u001b[38;5;241m=\u001b[39m jksadhfgoweyirfg\n",
      "\u001b[0;31mNameError\u001b[0m: name 'jksadhfgoweyirfg' is not defined"
     ]
    }
   ],
   "source": [
    "string4 = jksadhfgoweyirfg"
   ]
  },
  {
   "cell_type": "code",
   "execution_count": 6,
   "id": "e551e6a7-9209-410a-a04d-985069c2371e",
   "metadata": {},
   "outputs": [],
   "source": [
    "string4 = string1"
   ]
  },
  {
   "cell_type": "code",
   "execution_count": 7,
   "id": "9e9f54ba-51c7-4b2e-bcb4-fd60a854f606",
   "metadata": {},
   "outputs": [
    {
     "ename": "SyntaxError",
     "evalue": "unterminated string literal (detected at line 1) (3805785031.py, line 1)",
     "output_type": "error",
     "traceback": [
      "\u001b[0;36m  Cell \u001b[0;32mIn[7], line 1\u001b[0;36m\u001b[0m\n\u001b[0;31m    s = \"jwehfiqwel'\u001b[0m\n\u001b[0m        ^\u001b[0m\n\u001b[0;31mSyntaxError\u001b[0m\u001b[0;31m:\u001b[0m unterminated string literal (detected at line 1)\n"
     ]
    }
   ],
   "source": [
    "s = \"jwehfiqwel'"
   ]
  },
  {
   "cell_type": "markdown",
   "id": "7804b68c-3d45-479c-a00f-5e731f8b1dae",
   "metadata": {},
   "source": [
    "If you start with a double quote, you need to end with a double quote. If you start with a single quote, you need to end with a single quote."
   ]
  },
  {
   "cell_type": "code",
   "execution_count": 8,
   "id": "134c071c-8547-4235-b371-07dd976b69e6",
   "metadata": {},
   "outputs": [],
   "source": [
    "name = \"Boss\"\n",
    "assistant = \"Jamal\"\n",
    "friend = \"Dimitri\""
   ]
  },
  {
   "cell_type": "code",
   "execution_count": 9,
   "id": "02433d95-2db9-40ab-b66b-6767921c202a",
   "metadata": {},
   "outputs": [
    {
     "name": "stdout",
     "output_type": "stream",
     "text": [
      "BossJamalDimitri\n"
     ]
    }
   ],
   "source": [
    "print(name+assistant+friend)"
   ]
  },
  {
   "cell_type": "markdown",
   "id": "db68bbfb-3b28-4a58-b7f8-a722f37f31a2",
   "metadata": {},
   "source": [
    "### Variables are case sentitive!"
   ]
  },
  {
   "cell_type": "code",
   "execution_count": 12,
   "id": "5782890b-e177-4ff7-9114-d06752218534",
   "metadata": {},
   "outputs": [
    {
     "name": "stdout",
     "output_type": "stream",
     "text": [
      "HinameBroBoss\n"
     ]
    }
   ],
   "source": [
    "print(\"Hi\"+'name'+\"Bro\"+\"Boss\")"
   ]
  },
  {
   "cell_type": "markdown",
   "id": "346b378b-2380-4f2d-b6fa-937243325bae",
   "metadata": {},
   "source": [
    "### .lower() method converts string to lower case"
   ]
  },
  {
   "cell_type": "code",
   "execution_count": 13,
   "id": "b1354851-cf3b-432e-9637-ea7f25fa7dcf",
   "metadata": {},
   "outputs": [
    {
     "data": {
      "text/plain": [
       "'boss'"
      ]
     },
     "execution_count": 13,
     "metadata": {},
     "output_type": "execute_result"
    }
   ],
   "source": [
    "name.lower()"
   ]
  },
  {
   "cell_type": "markdown",
   "id": "cbfa2461-cd05-4842-9bf8-75118bdbea8e",
   "metadata": {},
   "source": [
    "### .upper() method converts string to upper case"
   ]
  },
  {
   "cell_type": "code",
   "execution_count": 14,
   "id": "4391a865-11b9-42ad-9c8b-7a7b499407b7",
   "metadata": {},
   "outputs": [
    {
     "data": {
      "text/plain": [
       "'BOSS'"
      ]
     },
     "execution_count": 14,
     "metadata": {},
     "output_type": "execute_result"
    }
   ],
   "source": [
    "name.upper()"
   ]
  },
  {
   "cell_type": "code",
   "execution_count": 15,
   "id": "dac99569-ae60-4633-8499-bee336b9740d",
   "metadata": {},
   "outputs": [
    {
     "data": {
      "text/plain": [
       "'PRADHYUM IS MY BROTHER BUT HE IS SO ANNOYING SOMETIMES. LUCKY IS A GOOD GUY BUT IS MEAN SOMETIMES. ABHINAV IS COOL BUT NOT COOL SOMETIMES. LOHITH IS A GOOD STUDENT, BUT WE GOTTA CHECK.'"
      ]
     },
     "execution_count": 15,
     "metadata": {},
     "output_type": "execute_result"
    }
   ],
   "source": [
    "\"pradhyum is my brother but he is so annoying sometimes. lucky is a good guy but is mean sometimes. abhinav is cool but not cool sometimes. lohith is a good student, but we gotta check.\".upper()"
   ]
  },
  {
   "cell_type": "code",
   "execution_count": 16,
   "id": "e69020f8-d47a-449e-a661-6680c52f9d41",
   "metadata": {},
   "outputs": [
    {
     "data": {
      "text/plain": [
       "'pradhyum is my brother but he is so annoying sometimes. lucky is a good guy but is mean sometimes. abhinav is cool but not cool sometimes. lohith is a good student, but we gotta check.'"
      ]
     },
     "execution_count": 16,
     "metadata": {},
     "output_type": "execute_result"
    }
   ],
   "source": [
    "'PRADHYUM IS MY BROTHER BUT HE IS SO ANNOYING SOMETIMES. LUCKY IS A GOOD GUY BUT IS MEAN SOMETIMES. ABHINAV IS COOL BUT NOT COOL SOMETIMES. LOHITH IS A GOOD STUDENT, BUT WE GOTTA CHECK.'.lower()"
   ]
  },
  {
   "cell_type": "markdown",
   "id": "d1d3c0a3-1d71-4431-93e8-8006d3d422d9",
   "metadata": {},
   "source": [
    "### .capitalize() capitalizes the first letter of the first word."
   ]
  },
  {
   "cell_type": "code",
   "execution_count": 17,
   "id": "a6d88f54-6546-4708-a321-d0afd4dd8e88",
   "metadata": {},
   "outputs": [
    {
     "data": {
      "text/plain": [
       "'Pradhyum is my brother but he is so annoying sometimes. lucky is a good guy but is mean sometimes. abhinav is cool but not cool sometimes. lohith is a good student, but we gotta check.'"
      ]
     },
     "execution_count": 17,
     "metadata": {},
     "output_type": "execute_result"
    }
   ],
   "source": [
    "'PRADHYUM IS MY BROTHER BUT HE IS SO ANNOYING SOMETIMES. LUCKY IS A GOOD GUY BUT IS MEAN SOMETIMES. ABHINAV IS COOL BUT NOT COOL SOMETIMES. LOHITH IS A GOOD STUDENT, BUT WE GOTTA CHECK.'.capitalize()"
   ]
  },
  {
   "cell_type": "code",
   "execution_count": 18,
   "id": "3d764855-f39b-47cf-b269-88ba10adfeab",
   "metadata": {},
   "outputs": [
    {
     "data": {
      "text/plain": [
       "'B'"
      ]
     },
     "execution_count": 18,
     "metadata": {},
     "output_type": "execute_result"
    }
   ],
   "source": [
    "name[0]"
   ]
  },
  {
   "cell_type": "markdown",
   "id": "f50a3953-a424-4fb5-b24b-e4f3ff49fa6f",
   "metadata": {},
   "source": [
    "### You can access pieces of strings by using their index. How do you know what all index to use though?"
   ]
  },
  {
   "cell_type": "markdown",
   "id": "b4777ec4-8cb8-4d36-8793-b4aaf201cb2f",
   "metadata": {},
   "source": [
    "Now, we will find out how may characters are in a string"
   ]
  },
  {
   "cell_type": "markdown",
   "id": "731f43f6-9be0-47f2-9e5f-b04b1f7adda0",
   "metadata": {},
   "source": [
    "### We use the ```len()``` method!"
   ]
  },
  {
   "cell_type": "code",
   "execution_count": 19,
   "id": "40356f7f-4e56-4504-ba6b-80087dd971c2",
   "metadata": {},
   "outputs": [
    {
     "data": {
      "text/plain": [
       "('Boss', 4)"
      ]
     },
     "execution_count": 19,
     "metadata": {},
     "output_type": "execute_result"
    }
   ],
   "source": [
    "name, len(name)"
   ]
  },
  {
   "cell_type": "code",
   "execution_count": 20,
   "id": "78432603-249e-404f-82ad-4e79a2d77080",
   "metadata": {},
   "outputs": [
    {
     "ename": "IndexError",
     "evalue": "string index out of range",
     "output_type": "error",
     "traceback": [
      "\u001b[0;31m---------------------------------------------------------------------------\u001b[0m",
      "\u001b[0;31mIndexError\u001b[0m                                Traceback (most recent call last)",
      "Cell \u001b[0;32mIn[20], line 1\u001b[0m\n\u001b[0;32m----> 1\u001b[0m name[\u001b[38;5;241m4\u001b[39m]\n",
      "\u001b[0;31mIndexError\u001b[0m: string index out of range"
     ]
    }
   ],
   "source": [
    "name[4]"
   ]
  },
  {
   "cell_type": "code",
   "execution_count": 21,
   "id": "f67f29e2-4185-42b0-ae16-fbb52b5591e5",
   "metadata": {},
   "outputs": [
    {
     "data": {
      "text/plain": [
       "('B', 'o', 's', 's')"
      ]
     },
     "execution_count": 21,
     "metadata": {},
     "output_type": "execute_result"
    }
   ],
   "source": [
    "name[0], name[1], name[2], name[3]"
   ]
  },
  {
   "cell_type": "markdown",
   "id": "992a71c4-e136-4e01-bade-9ba661105824",
   "metadata": {},
   "source": [
    "### If the length of a string is a number ```n```, you can only use indices between 0 and ```n-1```"
   ]
  },
  {
   "cell_type": "markdown",
   "id": "673b6547-cea4-4a7e-a611-eefe4b6740e9",
   "metadata": {},
   "source": [
    "# Homework\n",
    "### This is due on 6/16/2024 @ 11:59 pm EST"
   ]
  },
  {
   "cell_type": "markdown",
   "id": "d0cc5494-afe5-4c91-b323-bc3c4b479f27",
   "metadata": {},
   "source": [
    "### Print your name. Find the number of characters in your name, and print it to the screen too. Print your name in all caps, all lower, and with only the first letter in upper case. \n",
    "### On paper, write out the range of indices you can use."
   ]
  }
 ],
 "metadata": {
  "kernelspec": {
   "display_name": "Python 3 (ipykernel)",
   "language": "python",
   "name": "python3"
  },
  "language_info": {
   "codemirror_mode": {
    "name": "ipython",
    "version": 3
   },
   "file_extension": ".py",
   "mimetype": "text/x-python",
   "name": "python",
   "nbconvert_exporter": "python",
   "pygments_lexer": "ipython3",
   "version": "3.11.7"
  }
 },
 "nbformat": 4,
 "nbformat_minor": 5
}
