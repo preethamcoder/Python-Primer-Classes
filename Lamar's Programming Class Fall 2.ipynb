{
 "cells": [
  {
   "cell_type": "markdown",
   "id": "7e8c155f-0eca-4961-8199-533d59d43bce",
   "metadata": {},
   "source": [
    "# Homework Review"
   ]
  },
  {
   "cell_type": "code",
   "execution_count": 1,
   "id": "dceb1f44-69f7-4b0b-8437-ab086cb61821",
   "metadata": {},
   "outputs": [],
   "source": [
    "# Sum of all natural numbers from 1 to n\n",
    "# Formula is n*(n+1)/2\n",
    "def nat_sum(n):\n",
    "    # Write your code here\n",
    "    sm = n*(n+1)/2\n",
    "    return sm"
   ]
  },
  {
   "cell_type": "code",
   "execution_count": 2,
   "id": "9a60c876-6236-49a3-8c6f-d36163413279",
   "metadata": {},
   "outputs": [
    {
     "name": "stdin",
     "output_type": "stream",
     "text": [
      "Enter the number:  5\n"
     ]
    },
    {
     "name": "stdout",
     "output_type": "stream",
     "text": [
      "15.0\n"
     ]
    }
   ],
   "source": [
    "nu = int(input(\"Enter the number: \"))\n",
    "print(nat_sum(nu))"
   ]
  },
  {
   "cell_type": "code",
   "execution_count": 4,
   "id": "d9abe341-aaec-4e6f-8305-06aa5d022478",
   "metadata": {},
   "outputs": [],
   "source": [
    "# Sum of squares of number from 1 to n\n",
    "# This is the formula: 1^2 + 2^2 + 3^2 + ... + n^2 = n*(n+1)*(2*n+1)/6\n",
    "def sum_sq(n):\n",
    "    sm = n*(n+1)*(2*n+1)/6\n",
    "    return sm"
   ]
  },
  {
   "cell_type": "code",
   "execution_count": 5,
   "id": "ef2e5099-fa31-4572-b694-3884137e4afe",
   "metadata": {},
   "outputs": [
    {
     "name": "stdin",
     "output_type": "stream",
     "text": [
      "Enter the value of n:  6\n"
     ]
    },
    {
     "name": "stdout",
     "output_type": "stream",
     "text": [
      "91.0\n"
     ]
    }
   ],
   "source": [
    "num = int(input(\"Enter the value of n: \"))\n",
    "print(sum_sq(num))"
   ]
  },
  {
   "cell_type": "code",
   "execution_count": 7,
   "id": "d5711246-b0dd-4449-b496-4ba02999758f",
   "metadata": {},
   "outputs": [
    {
     "data": {
      "text/plain": [
       "(1.25, 1)"
      ]
     },
     "execution_count": 7,
     "metadata": {},
     "output_type": "execute_result"
    }
   ],
   "source": [
    "5/4, 5//4"
   ]
  },
  {
   "cell_type": "code",
   "execution_count": 8,
   "id": "3e95d0cc-00db-451e-b08e-70e724fbbcbc",
   "metadata": {},
   "outputs": [
    {
     "name": "stdout",
     "output_type": "stream",
     "text": [
      "Lohith is my best friend\n"
     ]
    }
   ],
   "source": [
    "print(\"Lohith is my best friend\")"
   ]
  },
  {
   "cell_type": "code",
   "execution_count": 9,
   "id": "31233fed-5921-4c52-817c-10410e30d954",
   "metadata": {},
   "outputs": [
    {
     "name": "stdout",
     "output_type": "stream",
     "text": [
      "5.0\n"
     ]
    }
   ],
   "source": [
    "print(10/2)"
   ]
  },
  {
   "cell_type": "code",
   "execution_count": 10,
   "id": "c03cf252-69f6-436d-9c4b-47b66594ca28",
   "metadata": {},
   "outputs": [
    {
     "name": "stdout",
     "output_type": "stream",
     "text": [
      "1\n",
      "2\n",
      "3\n",
      "4\n",
      "5\n"
     ]
    }
   ],
   "source": [
    "print(1)\n",
    "print(2)\n",
    "print(3)\n",
    "print(4)\n",
    "print(5)"
   ]
  },
  {
   "cell_type": "markdown",
   "id": "039f8e00-5517-4abc-9a28-dad8ea2056bb",
   "metadata": {},
   "source": [
    "# For loop and While loop"
   ]
  },
  {
   "cell_type": "markdown",
   "id": "dbeeb27e-6398-43ef-b169-5cc0c3a76b4d",
   "metadata": {
    "tags": []
   },
   "source": [
    "### (For loop) This is something you use when you know how many times you want to do something (STARTS AT 0 by DEFAULT, SKIPS BY 1 BY DEFAULT)\n",
    "### (While loop) This is something you use when you dont know how many times you want to do something"
   ]
  },
  {
   "cell_type": "code",
   "execution_count": 30,
   "id": "52b5db4f-5c0d-465c-91f0-adcf6d89cb7b",
   "metadata": {},
   "outputs": [
    {
     "name": "stdout",
     "output_type": "stream",
     "text": [
      "0\n",
      "1\n",
      "2\n",
      "3\n",
      "4\n",
      "5\n",
      "6\n",
      "7\n",
      "8\n",
      "9\n",
      "10\n",
      "11\n",
      "12\n",
      "13\n",
      "14\n",
      "15\n",
      "16\n",
      "17\n",
      "18\n",
      "19\n",
      "20\n"
     ]
    }
   ],
   "source": [
    "for ind in range(21):\n",
    "    print(ind)"
   ]
  },
  {
   "cell_type": "code",
   "execution_count": 12,
   "id": "cd46b8f9-684c-40b6-9be6-2f399b25919b",
   "metadata": {},
   "outputs": [
    {
     "name": "stdout",
     "output_type": "stream",
     "text": [
      "2\n",
      "3\n",
      "4\n",
      "5\n",
      "6\n",
      "7\n",
      "8\n",
      "9\n",
      "10\n",
      "11\n",
      "12\n",
      "13\n",
      "14\n",
      "15\n",
      "16\n",
      "17\n",
      "18\n",
      "19\n"
     ]
    }
   ],
   "source": [
    "for ind in range(2, 20):\n",
    "    print(ind)"
   ]
  },
  {
   "cell_type": "code",
   "execution_count": 14,
   "id": "7f53b868-b809-4202-a043-ddf88b3c4e8c",
   "metadata": {},
   "outputs": [
    {
     "name": "stdout",
     "output_type": "stream",
     "text": [
      "1\n",
      "5\n",
      "9\n",
      "13\n",
      "17\n"
     ]
    }
   ],
   "source": [
    "for ind in range(1, 20, 4):\n",
    "    print(ind)"
   ]
  },
  {
   "cell_type": "code",
   "execution_count": 17,
   "id": "1070a04c-95e6-4503-a92a-94c76d8f5f1d",
   "metadata": {},
   "outputs": [
    {
     "name": "stdout",
     "output_type": "stream",
     "text": [
      "20\n",
      "16\n",
      "12\n",
      "8\n",
      "4\n"
     ]
    }
   ],
   "source": [
    "for ind in range(20, 2, -4):\n",
    "    print(ind)"
   ]
  },
  {
   "cell_type": "code",
   "execution_count": 18,
   "id": "4055dcae-d4f8-4658-b7d4-7b17c0a712da",
   "metadata": {},
   "outputs": [
    {
     "name": "stdout",
     "output_type": "stream",
     "text": [
      "1\n",
      "2\n",
      "3\n",
      "4\n",
      "5\n",
      "6\n",
      "7\n",
      "8\n",
      "9\n",
      "10\n",
      "11\n",
      "12\n",
      "13\n",
      "14\n",
      "15\n",
      "16\n",
      "17\n",
      "18\n",
      "19\n",
      "20\n",
      "21\n",
      "22\n",
      "23\n",
      "24\n",
      "25\n",
      "26\n",
      "27\n",
      "28\n",
      "29\n",
      "30\n",
      "31\n",
      "32\n",
      "33\n",
      "34\n",
      "35\n",
      "36\n",
      "37\n",
      "38\n",
      "39\n",
      "40\n",
      "41\n",
      "42\n",
      "43\n",
      "44\n",
      "45\n",
      "46\n",
      "47\n",
      "48\n",
      "49\n",
      "50\n",
      "51\n",
      "52\n",
      "53\n",
      "54\n",
      "55\n",
      "56\n",
      "57\n",
      "58\n",
      "59\n",
      "60\n",
      "61\n",
      "62\n",
      "63\n",
      "64\n",
      "65\n",
      "66\n",
      "67\n",
      "68\n",
      "69\n",
      "70\n",
      "71\n",
      "72\n",
      "73\n",
      "74\n",
      "75\n",
      "76\n",
      "77\n",
      "78\n",
      "79\n",
      "80\n",
      "81\n",
      "82\n",
      "83\n",
      "84\n",
      "85\n",
      "86\n",
      "87\n",
      "88\n",
      "89\n",
      "90\n",
      "91\n",
      "92\n",
      "93\n",
      "94\n",
      "95\n",
      "96\n",
      "97\n",
      "98\n",
      "99\n",
      "100\n"
     ]
    }
   ],
   "source": [
    "# Question 1\n",
    "# Print all numbers between 1 and 100 (I want 100 too)\n",
    "for each in range(1, 101):\n",
    "    print(each)"
   ]
  },
  {
   "cell_type": "code",
   "execution_count": 19,
   "id": "604d087f-924d-4b26-8cd9-cfb4bcbd3e10",
   "metadata": {},
   "outputs": [
    {
     "name": "stdout",
     "output_type": "stream",
     "text": [
      "5\n",
      "6\n",
      "7\n",
      "8\n",
      "9\n",
      "10\n",
      "11\n",
      "12\n",
      "13\n",
      "14\n"
     ]
    }
   ],
   "source": [
    "# Question 2\n",
    "# Print all numbers between 5 and 15 (I dont want 15)\n",
    "for ind in range(5, 15):\n",
    "    print(ind)"
   ]
  },
  {
   "cell_type": "code",
   "execution_count": 24,
   "id": "ab182ef7-7abb-41b3-a10a-19ae0446e07f",
   "metadata": {},
   "outputs": [
    {
     "name": "stdout",
     "output_type": "stream",
     "text": [
      "5\n",
      "7\n",
      "9\n",
      "11\n",
      "13\n",
      "15\n",
      "17\n",
      "19\n"
     ]
    }
   ],
   "source": [
    "# Question 3\n",
    "# Print all odd numbers between 5 and 20\n",
    "for poo in range(5, 20, 2):\n",
    "    print(poo)"
   ]
  },
  {
   "cell_type": "code",
   "execution_count": 27,
   "id": "274063f1-06d8-4560-86e7-235c6727521c",
   "metadata": {},
   "outputs": [
    {
     "name": "stdout",
     "output_type": "stream",
     "text": [
      "6\n",
      "9\n",
      "12\n",
      "15\n",
      "18\n",
      "21\n",
      "24\n",
      "27\n",
      "30\n"
     ]
    }
   ],
   "source": [
    "# Question 4\n",
    "# Print all multiples of 3 between 5 and 30 (I want 30 too)\n",
    "for ind in range(6, 33, 3):\n",
    "    print(ind)"
   ]
  },
  {
   "cell_type": "code",
   "execution_count": 31,
   "id": "d49a0878-c652-427c-b66c-3dd85ef1b91f",
   "metadata": {},
   "outputs": [
    {
     "name": "stdout",
     "output_type": "stream",
     "text": [
      "0\n",
      "1\n",
      "2\n",
      "3\n",
      "4\n",
      "5\n",
      "6\n",
      "7\n",
      "8\n",
      "9\n",
      "10\n"
     ]
    }
   ],
   "source": [
    "# Question 5\n",
    "# Print all numbers between -10 and 10 (I want 10 too)\n",
    "for ind in range(11):\n",
    "    print(ind)"
   ]
  }
 ],
 "metadata": {
  "kernelspec": {
   "display_name": "Python 3 (ipykernel)",
   "language": "python",
   "name": "python3"
  },
  "language_info": {
   "codemirror_mode": {
    "name": "ipython",
    "version": 3
   },
   "file_extension": ".py",
   "mimetype": "text/x-python",
   "name": "python",
   "nbconvert_exporter": "python",
   "pygments_lexer": "ipython3",
   "version": "3.8.10"
  }
 },
 "nbformat": 4,
 "nbformat_minor": 5
}
