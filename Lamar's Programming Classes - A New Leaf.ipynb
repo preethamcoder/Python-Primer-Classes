{
 "cells": [
  {
   "cell_type": "markdown",
   "id": "5f4eb157-2c69-493a-bfea-fae2ab85c89f",
   "metadata": {},
   "source": [
    "# What's a Program?"
   ]
  },
  {
   "cell_type": "markdown",
   "id": "32629c8e-cc90-448c-bb51-0f62556dac72",
   "metadata": {},
   "source": [
    "A set of instructions you give to a computer to do a specific task."
   ]
  },
  {
   "cell_type": "markdown",
   "id": "9db1d2be-80ff-4fa4-9544-a70ed26dd93e",
   "metadata": {},
   "source": [
    "Python is very similar to English. Easy to learn, Very powerful language. This is mainly used in AI/ML, build apps, write games, ethically hack."
   ]
  },
  {
   "cell_type": "markdown",
   "id": "5d8f950a-e034-4e5a-84bb-fd5891aca311",
   "metadata": {},
   "source": [
    "Syntax: Rules by which you are supposed to arrange words/pieces for it all to make sense."
   ]
  },
  {
   "cell_type": "markdown",
   "id": "c9b6faa9-d995-4b2c-86ac-84e7c4f9aa32",
   "metadata": {},
   "source": [
    "\"A boy kicked the ball\". \"Ball kicked the boy.\" Syntax is very important."
   ]
  },
  {
   "cell_type": "markdown",
   "id": "2c7d270a-988e-42f2-bb1d-3930a642479f",
   "metadata": {},
   "source": [
    "### print statement"
   ]
  },
  {
   "cell_type": "markdown",
   "id": "e9f4923a-05e3-4469-8d9e-cd31ca334471",
   "metadata": {},
   "source": [
    "This is like you telling the computer to say what you want it to say"
   ]
  },
  {
   "cell_type": "code",
   "execution_count": 3,
   "id": "806948f8-f8d3-44a8-a53c-eaa4889376cd",
   "metadata": {},
   "outputs": [
    {
     "name": "stdout",
     "output_type": "stream",
     "text": [
      "Hi, this is a porgramming class\n"
     ]
    }
   ],
   "source": [
    "print(\"Hi, this is a porgramming class\")"
   ]
  },
  {
   "cell_type": "code",
   "execution_count": 4,
   "id": "84490f84-b4d3-43d1-92bc-f9dcfeb5393f",
   "metadata": {},
   "outputs": [
    {
     "name": "stdout",
     "output_type": "stream",
     "text": [
      "20\n"
     ]
    }
   ],
   "source": [
    "print(20)"
   ]
  },
  {
   "cell_type": "code",
   "execution_count": 5,
   "id": "7902d49b-c69a-47d1-b255-aec84f1d9993",
   "metadata": {},
   "outputs": [
    {
     "name": "stdout",
     "output_type": "stream",
     "text": [
      "True\n"
     ]
    }
   ],
   "source": [
    "print(True)"
   ]
  },
  {
   "cell_type": "markdown",
   "id": "8e4d840f-1069-4165-a88b-79df84d5a371",
   "metadata": {},
   "source": [
    "# Data Types"
   ]
  },
  {
   "cell_type": "markdown",
   "id": "284eb6f9-e88b-4c0b-8fa6-655f9ed4c7ff",
   "metadata": {},
   "source": [
    "A group of values which have a specific set of actions associated with them. A generic umbrella for specific kinds of values."
   ]
  },
  {
   "cell_type": "markdown",
   "id": "e964ad74-2ca7-4533-8dfc-92f75081db3d",
   "metadata": {},
   "source": [
    "4 principal data types: Integer, String, Boolean, Float (decimal values)"
   ]
  },
  {
   "cell_type": "markdown",
   "id": "35983c7d-bf9d-4c46-976f-9ad4d2180ad2",
   "metadata": {},
   "source": [
    "Integer: There are basically from -infiinty to infinity (in most cases in programing langues is -2*31 to (2^31)-1.\n",
    "\n",
    "Float: These are numbers just like integers, but they have the decimal part to them as well.\n",
    "\n",
    "String: These are set of charcaters put together. \"a\", \"hello\", \"iaufwye123\"\n",
    "\n",
    "Boolean: These are values that are either True or False. They are answers to conditions/conditional statements."
   ]
  },
  {
   "cell_type": "code",
   "execution_count": 6,
   "id": "82ffd83f-93f0-438c-bc12-ac99014fb4fb",
   "metadata": {},
   "outputs": [],
   "source": [
    "# These are all integers\n",
    "a = 20\n",
    "b = 30\n",
    "c = -100\n",
    "# These are floats\n",
    "f1 = 2.3\n",
    "f2 = 6.0\n",
    "f3 = -19.5"
   ]
  },
  {
   "cell_type": "code",
   "execution_count": 7,
   "id": "2eb6df41-cef9-44b0-aff8-8bb0f11850b2",
   "metadata": {},
   "outputs": [],
   "source": [
    "# Booleans only have 2 values, really\n",
    "b1 = True\n",
    "b2 = False\n",
    "# These are strings\n",
    "first = \"sonething\"\n",
    "# Single or double quotes are essential to identifying strings\n",
    "second = \"7812387416qweu iofhqweiouf*!&%@#*^$\""
   ]
  },
  {
   "cell_type": "code",
   "execution_count": 8,
   "id": "c98f021f-2206-4a0d-b480-3e8ec8206b03",
   "metadata": {},
   "outputs": [
    {
     "data": {
      "text/plain": [
       "50"
      ]
     },
     "execution_count": 8,
     "metadata": {},
     "output_type": "execute_result"
    }
   ],
   "source": [
    "# Should return 50\n",
    "a+b"
   ]
  },
  {
   "cell_type": "code",
   "execution_count": 9,
   "id": "38117be5-5a99-4393-9ad2-21243a5a15ee",
   "metadata": {},
   "outputs": [
    {
     "data": {
      "text/plain": [
       "-10"
      ]
     },
     "execution_count": 9,
     "metadata": {},
     "output_type": "execute_result"
    }
   ],
   "source": [
    "a-b # This should give you -10"
   ]
  },
  {
   "cell_type": "code",
   "execution_count": 10,
   "id": "20c7df38-662a-4851-b069-6ca7a623ac4c",
   "metadata": {},
   "outputs": [
    {
     "data": {
      "text/plain": [
       "600"
      ]
     },
     "execution_count": 10,
     "metadata": {},
     "output_type": "execute_result"
    }
   ],
   "source": [
    "a*b # This should give you 600"
   ]
  },
  {
   "cell_type": "code",
   "execution_count": 11,
   "id": "550ae11a-8ff0-4f38-80e5-06182879a50a",
   "metadata": {},
   "outputs": [
    {
     "data": {
      "text/plain": [
       "0.6666666666666666"
      ]
     },
     "execution_count": 11,
     "metadata": {},
     "output_type": "execute_result"
    }
   ],
   "source": [
    "a/b # This should give you liek 0.66666667"
   ]
  },
  {
   "cell_type": "code",
   "execution_count": 13,
   "id": "299f1cdb-3e85-45ed-ae70-ac4123e2f21f",
   "metadata": {},
   "outputs": [
    {
     "data": {
      "text/plain": [
       "8"
      ]
     },
     "execution_count": 13,
     "metadata": {},
     "output_type": "execute_result"
    }
   ],
   "source": [
    "# 2 is the base, 3 is the exponent\n",
    "2**3 # THis should give you 8, as \"**\" is used for exponential calculations"
   ]
  },
  {
   "cell_type": "markdown",
   "id": "cb593a26-657f-4c58-a876-fbfcf67f3a27",
   "metadata": {},
   "source": [
    "### Variables and Constants\n",
    "\n",
    "Variables are the ones whose value can change at any time. Constants do not change values during the execution of a program"
   ]
  },
  {
   "cell_type": "markdown",
   "id": "5825f0b2-a2ef-49c6-92e9-4fe384c6c1ea",
   "metadata": {},
   "source": [
    "# Rules to make your variables\n",
    "\n",
    "1. You cannot start it with a number.\n",
    "2. You can have any characters from a-z, A-Z, to start them.\n",
    "3. You can have numbers or special chracters like \"_\" in them. You cannot have spaces in variables. \n",
    "4. var_1Real --> Valid\n",
    "5. 1i8 --> invalid variable name"
   ]
  },
  {
   "cell_type": "markdown",
   "id": "fe3a3e56-0721-4da8-bd4c-b3431fa7f34e",
   "metadata": {},
   "source": [
    "Input --> What does into the program. You send some data in to get some data out. This is the data that is sent in.\n",
    "\n",
    "Output --> What comes out of the program. This is the data that comes out."
   ]
  },
  {
   "cell_type": "code",
   "execution_count": 15,
   "id": "9faf7021-79f2-49d9-ba98-7a940f8a6e2b",
   "metadata": {},
   "outputs": [
    {
     "name": "stdout",
     "output_type": "stream",
     "text": [
      "400\n"
     ]
    }
   ],
   "source": [
    "a = 20\n",
    "b = 20\n",
    "# a, b is the input\n",
    "# a*b, the 400 that comes out, is the output\n",
    "print(a*b)"
   ]
  },
  {
   "cell_type": "markdown",
   "id": "0cf1d60c-49aa-4b0b-af35-a61cb9c66d99",
   "metadata": {},
   "source": [
    "### Condittional statements --> These statements allow you to execute or perform certain tasks based on certain situations/conditions"
   ]
  },
  {
   "cell_type": "code",
   "execution_count": 16,
   "id": "77bac0d6-01b6-44fe-a295-5996de03ef00",
   "metadata": {},
   "outputs": [],
   "source": [
    "# if, else, elif (else if)\n",
    "# if gives you the first condition --> if the condition is True, we will go ahead with the execution. If it is not, we will not execute the statements"
   ]
  },
  {
   "cell_type": "code",
   "execution_count": 21,
   "id": "a8730e88-6af8-4815-affa-88445cdc0e19",
   "metadata": {},
   "outputs": [
    {
     "name": "stdout",
     "output_type": "stream",
     "text": [
      "They are equal\n"
     ]
    }
   ],
   "source": [
    "# You normally tab blocks of code to group them by conditions or by loops.\n",
    "if a > b:\n",
    "    print(\"A is Bigger than B\")\n",
    "elif a == b: # This checks if the values are equal\n",
    "    print(\"They are equal\")\n",
    "else:\n",
    "    print(\"Okay idk whats up\")"
   ]
  },
  {
   "cell_type": "markdown",
   "id": "39c050f5-0f0d-4105-8527-641ec3b5407b",
   "metadata": {},
   "source": [
    "# Loops\n",
    "\n",
    "They allow you to perform certain tasks over and over again. When you want to repeated do tasks. For loop, and a while loop, I will get into these in a future class."
   ]
  },
  {
   "cell_type": "code",
   "execution_count": 23,
   "id": "ee7b7323-e471-4aa4-8ebe-ec8f35430e1a",
   "metadata": {},
   "outputs": [
    {
     "name": "stdout",
     "output_type": "stream",
     "text": [
      "1\n",
      "2\n",
      "3\n",
      "4\n",
      "5\n",
      "6\n",
      "7\n",
      "8\n",
      "9\n",
      "10\n"
     ]
    }
   ],
   "source": [
    "for ind in range(1, 11):\n",
    "    print(ind)"
   ]
  },
  {
   "cell_type": "markdown",
   "id": "cc219350-f57f-46d2-befe-cd98bb1c1e76",
   "metadata": {},
   "source": [
    "# Arthemetic operators:\n",
    "+, -, *, /, **\n",
    "\n",
    "# Logical operators\"\n",
    "\">\", \"<\", \"==\", \">=\", \"<=\", and, or"
   ]
  },
  {
   "cell_type": "code",
   "execution_count": 22,
   "id": "f0c5f4e8-60ca-4bb6-9809-b6886dfcbce1",
   "metadata": {},
   "outputs": [],
   "source": [
    "# Check if a give number is bigger than the other. You can make up your own numbers. If your first numbers is bigger than the second, print out that First Wins.\n",
    "# Otherwise, print out that Second wins"
   ]
  },
  {
   "cell_type": "markdown",
   "id": "e0a612eb-c1f2-4451-8fc5-44add65df944",
   "metadata": {},
   "source": [
    "Comments: They are for humans, and are not included in the execution of the code. They increase the readablity of the code."
   ]
  },
  {
   "cell_type": "markdown",
   "id": "e1f0bad7-3b09-480d-9bcc-a185d91d17f5",
   "metadata": {},
   "source": [
    "# For Loop\n",
    "### This is when you know how many times you want to run something"
   ]
  },
  {
   "cell_type": "markdown",
   "id": "5f325430-ca20-4b28-9811-b8ff8526d55d",
   "metadata": {},
   "source": [
    "### This loop runs from start to stop - 1\n",
    "for var in range(start, stop, step) - step is the increment; you skip by a given number every time"
   ]
  },
  {
   "cell_type": "code",
   "execution_count": 2,
   "id": "474e5c5d-21d7-40eb-9f35-5504eb182574",
   "metadata": {},
   "outputs": [
    {
     "name": "stdout",
     "output_type": "stream",
     "text": [
      "0\n",
      "2\n",
      "4\n",
      "6\n",
      "8\n",
      "10\n",
      "12\n",
      "14\n",
      "16\n",
      "18\n"
     ]
    }
   ],
   "source": [
    "for ind in range(0, 20, 2):\n",
    "    print(ind)"
   ]
  },
  {
   "cell_type": "markdown",
   "id": "9d08f126-f497-4bc8-8008-adbb5bbb97eb",
   "metadata": {},
   "source": [
    "# Print all odd numbers from 1 to 30"
   ]
  },
  {
   "cell_type": "code",
   "execution_count": 7,
   "id": "151d689c-2fc3-48c4-9b50-290b13c95223",
   "metadata": {},
   "outputs": [
    {
     "name": "stdout",
     "output_type": "stream",
     "text": [
      "1\n",
      "3\n",
      "5\n",
      "7\n",
      "9\n",
      "11\n",
      "13\n",
      "15\n",
      "17\n",
      "19\n",
      "21\n",
      "23\n",
      "25\n",
      "27\n",
      "29\n"
     ]
    }
   ],
   "source": [
    "for ind in range(1, 30, 2):\n",
    "    print(ind)"
   ]
  },
  {
   "cell_type": "code",
   "execution_count": 10,
   "id": "c2921800-367a-4645-abd0-244bd71edaae",
   "metadata": {},
   "outputs": [
    {
     "name": "stdout",
     "output_type": "stream",
     "text": [
      "5\n",
      "30\n",
      "55\n",
      "80\n"
     ]
    }
   ],
   "source": [
    "# don't always have to use ind, use any valid variable name\n",
    "for ind in range(5, 105, 25):\n",
    "    print(ind)"
   ]
  },
  {
   "cell_type": "code",
   "execution_count": 15,
   "id": "b467ecfa-2d76-4a32-9050-635fbc335e4b",
   "metadata": {},
   "outputs": [
    {
     "name": "stdout",
     "output_type": "stream",
     "text": [
      "7\n",
      "14\n",
      "21\n",
      "28\n",
      "35\n",
      "42\n",
      "49\n",
      "56\n",
      "63\n",
      "70\n",
      "77\n"
     ]
    }
   ],
   "source": [
    "# Print the multiples of 7 between 2 and 80\n",
    "for ind in range(7, 80, 7):\n",
    "    print(ind)"
   ]
  },
  {
   "cell_type": "markdown",
   "id": "c6277493-769a-4939-b2af-2317c03e6766",
   "metadata": {},
   "source": [
    "# While loop\n",
    "### You run this loop when you don't know how many time you want to do something"
   ]
  },
  {
   "cell_type": "markdown",
   "id": "27c9b0f1-95a9-4b7a-9395-c113713ba8b0",
   "metadata": {},
   "source": [
    "While (condition):\n",
    "    \n",
    "    ### Do something"
   ]
  },
  {
   "cell_type": "code",
   "execution_count": 17,
   "id": "bf6de262-3ac7-4cb6-997b-50463184e8a4",
   "metadata": {},
   "outputs": [],
   "source": [
    "### While loops can result in infinite loops if the conditions are not altered."
   ]
  },
  {
   "cell_type": "code",
   "execution_count": 18,
   "id": "78099667-07c1-4aaa-8282-6e28c1f78a87",
   "metadata": {},
   "outputs": [],
   "source": [
    "# While loop breaks when the condition is false\n",
    "number = 20\n",
    "while number < 0:\n",
    "    print(number)\n",
    "    number -= 1"
   ]
  },
  {
   "cell_type": "code",
   "execution_count": 19,
   "id": "98fcf35b-273f-4fdf-8066-f9d126743b1d",
   "metadata": {},
   "outputs": [
    {
     "name": "stdout",
     "output_type": "stream",
     "text": [
      "10\n",
      "9\n",
      "8\n",
      "7\n",
      "6\n",
      "5\n",
      "4\n",
      "3\n",
      "2\n",
      "1\n",
      "0\n"
     ]
    }
   ],
   "source": [
    "for ind in range(10, -1, -1):\n",
    "    print(ind)"
   ]
  },
  {
   "cell_type": "code",
   "execution_count": 21,
   "id": "2915821e-e8b1-410a-99a4-a5866f7079fb",
   "metadata": {},
   "outputs": [
    {
     "name": "stdout",
     "output_type": "stream",
     "text": [
      "1\n",
      "2\n",
      "3\n",
      "4\n",
      "5\n",
      "6\n",
      "7\n",
      "8\n",
      "9\n",
      "10\n"
     ]
    }
   ],
   "source": [
    "# Default step is considered 1\n",
    "for ind in range(1, 11):\n",
    "    print(ind)"
   ]
  },
  {
   "cell_type": "code",
   "execution_count": 27,
   "id": "1eb2d865-e4e9-4d86-9aaa-c12fd236f29d",
   "metadata": {},
   "outputs": [
    {
     "name": "stdout",
     "output_type": "stream",
     "text": [
      "400\n",
      "396\n",
      "392\n",
      "388\n",
      "384\n",
      "380\n",
      "376\n",
      "372\n",
      "368\n",
      "364\n",
      "360\n",
      "356\n",
      "352\n",
      "348\n",
      "344\n",
      "340\n",
      "336\n",
      "332\n",
      "328\n",
      "324\n",
      "320\n",
      "316\n",
      "312\n",
      "308\n",
      "304\n",
      "300\n",
      "296\n",
      "292\n",
      "288\n",
      "284\n",
      "280\n",
      "276\n",
      "272\n",
      "268\n",
      "264\n",
      "260\n",
      "256\n",
      "252\n",
      "248\n",
      "244\n",
      "240\n",
      "236\n",
      "232\n",
      "228\n",
      "224\n",
      "220\n",
      "216\n",
      "212\n",
      "208\n",
      "204\n",
      "200\n"
     ]
    }
   ],
   "source": [
    "# Multiples of 4 between 400 and 200 in reverse order\n",
    "# Limit here is 203, and the last number printed was 204. It is still less than the limit, so we go one step further\n",
    "for ind in range(400, 199, -4):\n",
    "    print(ind)"
   ]
  },
  {
   "cell_type": "code",
   "execution_count": 29,
   "id": "a3c207f3-685c-4228-9238-9faf53fedc40",
   "metadata": {},
   "outputs": [
    {
     "name": "stdout",
     "output_type": "stream",
     "text": [
      "200\n",
      "204\n",
      "208\n",
      "212\n",
      "216\n",
      "220\n",
      "224\n",
      "228\n",
      "232\n",
      "236\n",
      "240\n",
      "244\n",
      "248\n",
      "252\n",
      "256\n",
      "260\n",
      "264\n",
      "268\n",
      "272\n",
      "276\n",
      "280\n",
      "284\n",
      "288\n",
      "292\n",
      "296\n",
      "300\n",
      "304\n",
      "308\n",
      "312\n",
      "316\n",
      "320\n",
      "324\n",
      "328\n",
      "332\n",
      "336\n",
      "340\n",
      "344\n",
      "348\n",
      "352\n",
      "356\n",
      "360\n",
      "364\n",
      "368\n",
      "372\n",
      "376\n",
      "380\n",
      "384\n",
      "388\n",
      "392\n",
      "396\n",
      "400\n"
     ]
    }
   ],
   "source": [
    "# This is the modulo operator, which gives you the remainder of a given number divided by another\n",
    "for ind in range(200, 401):\n",
    "    if ind % 4 == 0:\n",
    "        print(ind)"
   ]
  },
  {
   "cell_type": "code",
   "execution_count": 30,
   "id": "75ef2ee1-4884-4c2c-bcca-75c52ea487c6",
   "metadata": {},
   "outputs": [
    {
     "name": "stdout",
     "output_type": "stream",
     "text": [
      "1\n"
     ]
    }
   ],
   "source": [
    "print(16 % 5)"
   ]
  },
  {
   "cell_type": "code",
   "execution_count": 32,
   "id": "59aacaea-b838-4e57-823c-ebda2ddd5252",
   "metadata": {},
   "outputs": [
    {
     "name": "stdout",
     "output_type": "stream",
     "text": [
      "Odd\n"
     ]
    }
   ],
   "source": [
    "# Write a program that would tell me if a number is even or odd\n",
    "number = 23\n",
    "if number % 2 == 0:\n",
    "    print(\"Even\")\n",
    "else:\n",
    "    print(\"Odd\")"
   ]
  },
  {
   "cell_type": "markdown",
   "id": "5af9bd89-568d-44fa-861c-cd73dd1e2ae9",
   "metadata": {},
   "source": [
    "# Data\n",
    "\n",
    "Information that a computer uses to do some tasks or it is what it gives out to you. Input and output is a form of data in computer programs.\n",
    "\n",
    "A program takes in a particular input and gives you a specific output."
   ]
  },
  {
   "cell_type": "markdown",
   "id": "ecb175f1-47b0-43f0-bdd4-a56a255139fe",
   "metadata": {},
   "source": [
    "### Data Structures are things that hold data. Today we will learn about Lists and Dictionaries"
   ]
  },
  {
   "cell_type": "markdown",
   "id": "c368bf97-74d8-4812-9389-0ea661e5a6aa",
   "metadata": {},
   "source": [
    "Lists: They look like ```[]``` and allow you to hold things inside it. Lists are accessed by indices. They are 0 indexed - the first index is 0, the second is 1, and you can go on."
   ]
  },
  {
   "cell_type": "code",
   "execution_count": 8,
   "id": "e11a8e42-ea6e-4a03-8372-ba07e56dc292",
   "metadata": {},
   "outputs": [],
   "source": [
    "list1 = [\"Apple\", 1, 2.0, False, 9, 55]"
   ]
  },
  {
   "cell_type": "code",
   "execution_count": 4,
   "id": "d8e7e6e0-6ca3-4361-9a66-d7a755f1bf99",
   "metadata": {},
   "outputs": [
    {
     "data": {
      "text/plain": [
       "2.0"
      ]
     },
     "execution_count": 4,
     "metadata": {},
     "output_type": "execute_result"
    }
   ],
   "source": [
    "list1[2]"
   ]
  },
  {
   "cell_type": "markdown",
   "id": "53db9715-38b8-42c5-98c6-639de63d4c24",
   "metadata": {},
   "source": [
    "### If you use the ```len()``` function, you can tell how many elements are in the list"
   ]
  },
  {
   "cell_type": "code",
   "execution_count": 9,
   "id": "bdafb30c-3f22-4a86-808b-8201c647299e",
   "metadata": {},
   "outputs": [
    {
     "data": {
      "text/plain": [
       "6"
      ]
     },
     "execution_count": 9,
     "metadata": {},
     "output_type": "execute_result"
    }
   ],
   "source": [
    "len(list1)"
   ]
  },
  {
   "cell_type": "code",
   "execution_count": 10,
   "id": "abc12ee9-8c66-4972-9d73-84be327eb664",
   "metadata": {},
   "outputs": [
    {
     "name": "stdout",
     "output_type": "stream",
     "text": [
      "['Apple', 1, 2.0, False, 9, 55]\n"
     ]
    }
   ],
   "source": [
    "print(list1)"
   ]
  },
  {
   "cell_type": "markdown",
   "id": "b81c9106-04c6-4ddd-9eef-8c424e2523bb",
   "metadata": {},
   "source": [
    "### We can use the for loop to iterate through elements in the list"
   ]
  },
  {
   "cell_type": "code",
   "execution_count": 11,
   "id": "e9750816-3603-4a83-88da-128d3e5d58cf",
   "metadata": {},
   "outputs": [
    {
     "name": "stdout",
     "output_type": "stream",
     "text": [
      "Apple\n",
      "1\n",
      "2.0\n",
      "False\n",
      "9\n",
      "55\n"
     ]
    }
   ],
   "source": [
    "for element in list1:\n",
    "    print(element)"
   ]
  },
  {
   "cell_type": "code",
   "execution_count": 13,
   "id": "3e6ca199-0fde-4bc9-a8ac-b23afc7f61fb",
   "metadata": {},
   "outputs": [
    {
     "name": "stdout",
     "output_type": "stream",
     "text": [
      "Apple\n",
      "1\n",
      "2.0\n",
      "False\n",
      "9\n",
      "55\n"
     ]
    }
   ],
   "source": [
    "for ind in range(len(list1)):\n",
    "    print(list1[ind])"
   ]
  },
  {
   "cell_type": "code",
   "execution_count": 14,
   "id": "d2b33ffe-3253-45d3-b926-26f034526280",
   "metadata": {},
   "outputs": [],
   "source": [
    "## Exercise problem"
   ]
  },
  {
   "cell_type": "markdown",
   "id": "09911989-c832-41d2-ba34-d2144bd2e335",
   "metadata": {},
   "source": [
    "### Define a list with 5-7 elements. I want you to print out how many elements are in the list, print out the list, and print out each element in the list"
   ]
  },
  {
   "cell_type": "code",
   "execution_count": 15,
   "id": "9a2b3209-cd28-4e34-a147-b28fe4447b1e",
   "metadata": {},
   "outputs": [],
   "source": [
    "list2 = [1, 2, 3, 4, 5, 6]"
   ]
  },
  {
   "cell_type": "code",
   "execution_count": 16,
   "id": "49645507-890f-4de2-82f7-dbac0570590d",
   "metadata": {},
   "outputs": [
    {
     "name": "stdout",
     "output_type": "stream",
     "text": [
      "6\n"
     ]
    }
   ],
   "source": [
    "print(len(list2))"
   ]
  },
  {
   "cell_type": "code",
   "execution_count": 18,
   "id": "69226ae3-158f-4f7c-87c9-42942b8e3cd6",
   "metadata": {},
   "outputs": [
    {
     "name": "stdout",
     "output_type": "stream",
     "text": [
      "[1, 2, 3, 4, 5, 6]\n"
     ]
    }
   ],
   "source": [
    "print(list2)"
   ]
  },
  {
   "cell_type": "code",
   "execution_count": 19,
   "id": "ca56beee-aa5b-4e71-86b2-30c960b45601",
   "metadata": {},
   "outputs": [
    {
     "name": "stdout",
     "output_type": "stream",
     "text": [
      "1\n",
      "2\n",
      "3\n",
      "4\n",
      "5\n",
      "6\n"
     ]
    }
   ],
   "source": [
    "for elem in list2:\n",
    "    print(elem)"
   ]
  },
  {
   "cell_type": "code",
   "execution_count": 20,
   "id": "39e37e44-aad4-45e1-8016-09cbcc021ef4",
   "metadata": {},
   "outputs": [
    {
     "name": "stdout",
     "output_type": "stream",
     "text": [
      "1\n",
      "2\n",
      "3\n",
      "4\n",
      "5\n",
      "6\n"
     ]
    }
   ],
   "source": [
    "for ind in range(len(list2)):\n",
    "    print(list2[ind])"
   ]
  },
  {
   "cell_type": "markdown",
   "id": "14097377-b200-4f52-88d9-d80133a8c893",
   "metadata": {},
   "source": [
    "### append() --> Adds elements to the end of a list\n",
    "\n",
    "### pop() --> Removes elements from the end of a list"
   ]
  },
  {
   "cell_type": "code",
   "execution_count": 23,
   "id": "3eef7f62-9763-4c9e-8d74-87dc33e7fc7d",
   "metadata": {},
   "outputs": [
    {
     "name": "stdout",
     "output_type": "stream",
     "text": [
      "List before adding anything:  []\n",
      "[20, 40]\n",
      "[20]\n"
     ]
    }
   ],
   "source": [
    "empty_list = []\n",
    "print(\"List before adding anything: \", empty_list)\n",
    "empty_list.append(20)\n",
    "empty_list.append(40)\n",
    "print(empty_list)\n",
    "empty_list.pop()\n",
    "print(empty_list)"
   ]
  },
  {
   "cell_type": "markdown",
   "id": "72d1855a-78bb-4482-ba65-7384ded9dcf0",
   "metadata": {},
   "source": [
    "### Print out numbers from 1 to 10. I want you to add all these numbers to a list and print the list"
   ]
  },
  {
   "cell_type": "code",
   "execution_count": 31,
   "id": "dc78bd74-bd7e-4948-b4af-0ea0822f259d",
   "metadata": {},
   "outputs": [
    {
     "name": "stdout",
     "output_type": "stream",
     "text": [
      "[1]\n",
      "[1, 2]\n",
      "[1, 2, 3]\n",
      "[1, 2, 3, 4]\n",
      "[1, 2, 3, 4, 5]\n",
      "[1, 2, 3, 4, 5, 6]\n",
      "[1, 2, 3, 4, 5, 6, 7]\n",
      "[1, 2, 3, 4, 5, 6, 7, 8]\n",
      "[1, 2, 3, 4, 5, 6, 7, 8, 9]\n",
      "[1, 2, 3, 4, 5, 6, 7, 8, 9, 10]\n",
      "[1, 2, 3, 4, 5, 6, 7, 8, 9, 10]\n"
     ]
    }
   ],
   "source": [
    "# This is the list I am gonna add stuff to\n",
    "result_list = []\n",
    "# This allows me to access numbers from 1 to 10\n",
    "for ind in range(1, 11):\n",
    "    result_list.append(ind)\n",
    "    print(result_list)\n",
    "print(result_list)"
   ]
  },
  {
   "cell_type": "markdown",
   "id": "1ba2942d-657f-440d-8462-93d9fff1c760",
   "metadata": {},
   "source": [
    "### Pop 3 elements from result_list"
   ]
  },
  {
   "cell_type": "code",
   "execution_count": 32,
   "id": "10248a78-6bba-4b58-a6cb-c3ae0e11b4a5",
   "metadata": {},
   "outputs": [
    {
     "name": "stdout",
     "output_type": "stream",
     "text": [
      "[1, 2, 3, 4, 5, 6, 7, 8, 9, 10]\n",
      "[1, 2, 3, 4, 5, 6, 7, 8, 9]\n",
      "[1, 2, 3, 4, 5, 6, 7, 8]\n",
      "[1, 2, 3, 4, 5, 6, 7]\n"
     ]
    }
   ],
   "source": [
    "print(result_list)\n",
    "for ind in range(3):\n",
    "    result_list.pop()\n",
    "    print(result_list)"
   ]
  },
  {
   "cell_type": "markdown",
   "id": "763df169-4e8f-4a56-aea9-d8c2a02d526d",
   "metadata": {},
   "source": [
    "### Print multiples of 13 between 2 and 140"
   ]
  },
  {
   "cell_type": "code",
   "execution_count": 2,
   "id": "6889e868-e974-4373-be0b-bce091f7c1a0",
   "metadata": {},
   "outputs": [
    {
     "name": "stdout",
     "output_type": "stream",
     "text": [
      "13\n",
      "26\n",
      "39\n",
      "52\n",
      "65\n",
      "78\n",
      "91\n",
      "104\n",
      "117\n",
      "130\n"
     ]
    }
   ],
   "source": [
    "for ind in range(2, 140):\n",
    "    if ind % 13 == 0:\n",
    "        print(ind)"
   ]
  },
  {
   "cell_type": "code",
   "execution_count": 3,
   "id": "4ed70d26-d920-48a5-8596-783043b75a09",
   "metadata": {},
   "outputs": [
    {
     "name": "stdout",
     "output_type": "stream",
     "text": [
      "13\n",
      "26\n",
      "39\n",
      "52\n",
      "65\n",
      "78\n",
      "91\n",
      "104\n",
      "117\n",
      "130\n"
     ]
    }
   ],
   "source": [
    "for ind in range(13, 140, 13):\n",
    "    print(ind)"
   ]
  },
  {
   "cell_type": "markdown",
   "id": "365ddc10-8877-4650-afaa-ed0c25a7e24e",
   "metadata": {},
   "source": [
    "# Reverse the list on Paper"
   ]
  },
  {
   "cell_type": "code",
   "execution_count": 4,
   "id": "b4031329-3b61-4d24-a330-fdcef698e5b0",
   "metadata": {},
   "outputs": [],
   "source": [
    "sample = [2, 3, 4, 1, 5]"
   ]
  },
  {
   "cell_type": "code",
   "execution_count": 6,
   "id": "d6699872-f946-4fad-89bf-f06291d8956a",
   "metadata": {},
   "outputs": [
    {
     "name": "stdout",
     "output_type": "stream",
     "text": [
      "4\n",
      "3\n",
      "2\n",
      "1\n",
      "0\n"
     ]
    },
    {
     "data": {
      "text/plain": [
       "[5, 1, 4, 3, 2]"
      ]
     },
     "execution_count": 6,
     "metadata": {},
     "output_type": "execute_result"
    }
   ],
   "source": [
    "result = []\n",
    "for ind in range(len(sample)-1, -1, -1):\n",
    "    print(ind)\n",
    "    result.append(sample[ind])\n",
    "result"
   ]
  },
  {
   "cell_type": "markdown",
   "id": "cbeebdf5-e8fb-4827-9f97-b8ff153c9ae7",
   "metadata": {},
   "source": [
    "# Swapping values between 2 variables"
   ]
  },
  {
   "cell_type": "code",
   "execution_count": 7,
   "id": "1c497543-7a83-4a81-8310-8fc2db75e64d",
   "metadata": {},
   "outputs": [],
   "source": [
    "a = 10\n",
    "b = 5"
   ]
  },
  {
   "cell_type": "code",
   "execution_count": 8,
   "id": "fc1cda54-27eb-4812-9ff1-1f03857131a4",
   "metadata": {},
   "outputs": [
    {
     "data": {
      "text/plain": [
       "(10, 10)"
      ]
     },
     "execution_count": 8,
     "metadata": {},
     "output_type": "execute_result"
    }
   ],
   "source": [
    "b = a\n",
    "a = b\n",
    "a, b"
   ]
  },
  {
   "cell_type": "code",
   "execution_count": 15,
   "id": "1aed5512-3470-4408-abcd-7d193128fc1c",
   "metadata": {},
   "outputs": [],
   "source": [
    "a = 10\n",
    "b = 5\n",
    "c = b"
   ]
  },
  {
   "cell_type": "code",
   "execution_count": 16,
   "id": "7dd03bd7-71cc-4fee-bf62-287e6f8cd33a",
   "metadata": {},
   "outputs": [
    {
     "data": {
      "text/plain": [
       "5"
      ]
     },
     "execution_count": 16,
     "metadata": {},
     "output_type": "execute_result"
    }
   ],
   "source": [
    "c"
   ]
  },
  {
   "cell_type": "code",
   "execution_count": 17,
   "id": "43401a87-b8ca-4175-837a-f0fb2f8147c5",
   "metadata": {},
   "outputs": [
    {
     "data": {
      "text/plain": [
       "10"
      ]
     },
     "execution_count": 17,
     "metadata": {},
     "output_type": "execute_result"
    }
   ],
   "source": [
    "b = a\n",
    "b"
   ]
  },
  {
   "cell_type": "code",
   "execution_count": 18,
   "id": "e2f1ee68-d640-4dd3-9a93-f6785479bb05",
   "metadata": {},
   "outputs": [
    {
     "data": {
      "text/plain": [
       "(5, 10)"
      ]
     },
     "execution_count": 18,
     "metadata": {},
     "output_type": "execute_result"
    }
   ],
   "source": [
    "a = c\n",
    "a, b"
   ]
  },
  {
   "cell_type": "code",
   "execution_count": 19,
   "id": "e0a58444-a590-47e0-862a-d646dfc1ba2d",
   "metadata": {},
   "outputs": [
    {
     "data": {
      "text/plain": [
       "(10, 5)"
      ]
     },
     "execution_count": 19,
     "metadata": {},
     "output_type": "execute_result"
    }
   ],
   "source": [
    "a, b = b, a\n",
    "a, b"
   ]
  },
  {
   "cell_type": "code",
   "execution_count": 20,
   "id": "78dc7c50-760e-4ea1-a39a-92c08161c0ac",
   "metadata": {},
   "outputs": [
    {
     "data": {
      "text/plain": [
       "[5, 1, 4, 3, 2]"
      ]
     },
     "execution_count": 20,
     "metadata": {},
     "output_type": "execute_result"
    }
   ],
   "source": [
    "result"
   ]
  },
  {
   "cell_type": "code",
   "execution_count": 21,
   "id": "5c020833-2c45-413c-a27e-156795e8c1fd",
   "metadata": {},
   "outputs": [
    {
     "data": {
      "text/plain": [
       "[2, 3, 4, 1, 5]"
      ]
     },
     "execution_count": 21,
     "metadata": {},
     "output_type": "execute_result"
    }
   ],
   "source": [
    "left = 0\n",
    "right = len(result)-1\n",
    "while left < right:\n",
    "    result[left], result[right] = result[right], result[left]\n",
    "    left += 1\n",
    "    right -= 1\n",
    "result"
   ]
  },
  {
   "cell_type": "markdown",
   "id": "5c2f395b-bada-4462-b801-752b8a865e8a",
   "metadata": {},
   "source": [
    "# Reverse the list: [1, 2, 3, 4, 5, 6]"
   ]
  },
  {
   "cell_type": "code",
   "execution_count": 22,
   "id": "e0df6140-fb42-45ad-ae0b-b0af677a7948",
   "metadata": {},
   "outputs": [
    {
     "data": {
      "text/plain": [
       "[6, 5, 4, 3, 2, 1]"
      ]
     },
     "execution_count": 22,
     "metadata": {},
     "output_type": "execute_result"
    }
   ],
   "source": [
    "result = [1, 2, 3, 4, 5, 6]\n",
    "left = 0\n",
    "right = len(result)-1\n",
    "while left < right:\n",
    "    result[left], result[right] = result[right], result[left]\n",
    "    left += 1\n",
    "    right -= 1\n",
    "result"
   ]
  },
  {
   "cell_type": "markdown",
   "id": "c048f772-9661-4b47-8dcf-97d8bdfea97b",
   "metadata": {},
   "source": [
    "Write code to tell if a number is even or not"
   ]
  },
  {
   "cell_type": "markdown",
   "id": "b2fc38cd-24b8-4639-ba86-25f6f746a58f",
   "metadata": {},
   "source": [
    "# Make you own list of movies/TV shows. Pick the middle of the list every time, and add it to the end. For ever 3 times you add to the end, Remove the last 2 elements from the list. Do these things 5 times."
   ]
  },
  {
   "cell_type": "code",
   "execution_count": null,
   "id": "c6cc5384-ec06-49d5-8ff2-704b49a26fd9",
   "metadata": {},
   "outputs": [],
   "source": [
    "# 1 iteration. Do this 5 times.\n",
    "[a, b, c]\n",
    "[a, b, c, b]\n",
    "[a, b, c, b, b]\n",
    "[a, b, c, b, b, b]\n",
    "[a, b, c, b]"
   ]
  },
  {
   "cell_type": "code",
   "execution_count": 15,
   "id": "a5784f56-7a94-47e0-8a96-59e339c0e661",
   "metadata": {},
   "outputs": [],
   "source": [
    "movies = [\"Movie 1\", \"Movie 2\", \"Movie 3\"]"
   ]
  },
  {
   "cell_type": "code",
   "execution_count": 11,
   "id": "038e444a-f85e-4974-9f97-6c9e811b27a3",
   "metadata": {},
   "outputs": [
    {
     "data": {
      "text/plain": [
       "'Movie 3'"
      ]
     },
     "execution_count": 11,
     "metadata": {},
     "output_type": "execute_result"
    }
   ],
   "source": [
    "middle = len(movies)//2\n",
    "middle_movie = movies[middle]\n",
    "middle_movie"
   ]
  },
  {
   "cell_type": "code",
   "execution_count": 12,
   "id": "8885952c-2af1-4f5e-8549-a726db28cce8",
   "metadata": {},
   "outputs": [
    {
     "data": {
      "text/plain": [
       "['Movie 1', 'Movie 2', 'Movie 3', 'Movie 2', 'Movie 3', 'Movie 3']"
      ]
     },
     "execution_count": 12,
     "metadata": {},
     "output_type": "execute_result"
    }
   ],
   "source": [
    "movies.append(middle_movie)\n",
    "movies"
   ]
  },
  {
   "cell_type": "code",
   "execution_count": 13,
   "id": "b62b8d21-09c2-40ed-b83e-8c426f38336e",
   "metadata": {},
   "outputs": [
    {
     "data": {
      "text/plain": [
       "'Movie 3'"
      ]
     },
     "execution_count": 13,
     "metadata": {},
     "output_type": "execute_result"
    }
   ],
   "source": [
    "movies.pop()\n",
    "movies.pop()"
   ]
  },
  {
   "cell_type": "code",
   "execution_count": 14,
   "id": "c5f0212f-18a8-4348-a180-d0742aa6aee2",
   "metadata": {},
   "outputs": [
    {
     "data": {
      "text/plain": [
       "['Movie 1', 'Movie 2', 'Movie 3', 'Movie 2']"
      ]
     },
     "execution_count": 14,
     "metadata": {},
     "output_type": "execute_result"
    }
   ],
   "source": [
    "movies"
   ]
  },
  {
   "cell_type": "code",
   "execution_count": 17,
   "id": "0472dc2e-6f73-4f6b-b048-ecd5bbb4ecb1",
   "metadata": {},
   "outputs": [
    {
     "name": "stdout",
     "output_type": "stream",
     "text": [
      "['Movie 1', 'Movie 2', 'Movie 3', 'Movie 2']\n",
      "['Movie 1', 'Movie 2', 'Movie 3', 'Movie 2', 'Movie 3']\n",
      "['Movie 1', 'Movie 2', 'Movie 3', 'Movie 2', 'Movie 3', 'Movie 3']\n"
     ]
    }
   ],
   "source": [
    "movies = [\"Movie 1\", \"Movie 2\", \"Movie 3\"]\n",
    "counter = 1\n",
    "for ind in range(5):\n",
    "    if counter % 4 == 0:\n",
    "        movies.pop()\n",
    "        movies.pop()\n",
    "        counter = 0\n",
    "    else:\n",
    "        middle = len(movies)//2\n",
    "        middle_movie = movies[middle]\n",
    "        movies.append(middle_movie)\n",
    "        print(movies)\n",
    "        counter += 1"
   ]
  },
  {
   "cell_type": "markdown",
   "id": "52b706e3-ca9d-438c-a3b5-143872f7b3e1",
   "metadata": {},
   "source": [
    "### Write a program to find the volume of rectangular prism, which was designed by melting a cube with side 5 cm."
   ]
  },
  {
   "cell_type": "code",
   "execution_count": 18,
   "id": "7cf3e75f-1201-4779-9fd5-4e12f6ad87b1",
   "metadata": {},
   "outputs": [],
   "source": [
    "def volume(side):\n",
    "    return side * side * side"
   ]
  },
  {
   "cell_type": "code",
   "execution_count": 19,
   "id": "81aff524-1fb4-4bbb-bab6-315d36a858b1",
   "metadata": {},
   "outputs": [
    {
     "data": {
      "text/plain": [
       "125"
      ]
     },
     "execution_count": 19,
     "metadata": {},
     "output_type": "execute_result"
    }
   ],
   "source": [
    "volume(5)"
   ]
  },
  {
   "cell_type": "markdown",
   "id": "2d063173-1d84-47a4-ab59-2a5013ad96f0",
   "metadata": {},
   "source": [
    "### You have a list of depths of hippos (how deep into the water they are. Based on each depth, you must print out if the hippo is low, medium, or deep.\n",
    "### If depth is less than 50 cm, its low. It it is between 50 and 100 cm, its medium. Or else its high."
   ]
  },
  {
   "cell_type": "code",
   "execution_count": 20,
   "id": "caa70c35-874f-4574-b093-5096f4d85d8b",
   "metadata": {},
   "outputs": [],
   "source": [
    "def depth_status(depths):\n",
    "    # depths = [10, 20, 50, 90, 100, 40, 65, 75]\n",
    "    #\n",
    "    # you can print out your answers\n",
    "    # GO over the list\n",
    "    for depth in depths:\n",
    "        if depth < 50:\n",
    "            print(\"Low\")\n",
    "        elif depth >= 50 and depth <= 100:\n",
    "            print(\"Medium\")\n",
    "        else:\n",
    "            print(\"High\")"
   ]
  },
  {
   "cell_type": "code",
   "execution_count": 21,
   "id": "8657b476-8ea8-43ba-955f-bc7be3605fe7",
   "metadata": {},
   "outputs": [
    {
     "name": "stdout",
     "output_type": "stream",
     "text": [
      "Low\n",
      "Low\n",
      "Medium\n",
      "Medium\n",
      "Medium\n",
      "Low\n",
      "Medium\n",
      "Medium\n"
     ]
    }
   ],
   "source": [
    "depth_status([10, 20, 50, 90, 100, 40, 65, 75])"
   ]
  },
  {
   "cell_type": "markdown",
   "id": "98fc7d14-7e19-4d6b-a2c3-5e4e0e33fdf2",
   "metadata": {},
   "source": [
    "# You will get a number. I want you to find the sum of its digits, until the final result is less than 10 (single digit)."
   ]
  },
  {
   "cell_type": "code",
   "execution_count": 14,
   "id": "0202336e-6cd1-4372-baca-c26a91f0e837",
   "metadata": {},
   "outputs": [],
   "source": [
    "def sum_of_digs(number):\n",
    "    # The final answer should be in a single digit.\n",
    "    # Example: 192\n",
    "    # Iteration 1: 1 + 9 + 2 = 12\n",
    "    # Iteration 2: 1 + 2 = 3\n",
    "    # We return 3\n",
    "    res = 0\n",
    "    while number > 0 or res > 9:\n",
    "    #while number > 0:\n",
    "        if number == 0:\n",
    "            number = res\n",
    "            res = 0    \n",
    "        first_digit = number % 10\n",
    "        res += first_digit\n",
    "        print(first_digit, res)\n",
    "        number //= 10\n",
    "        print(res)\n",
    "    return res"
   ]
  },
  {
   "cell_type": "code",
   "execution_count": 13,
   "id": "7f968444-df18-402c-a3a3-d784b0f60f60",
   "metadata": {},
   "outputs": [
    {
     "name": "stdout",
     "output_type": "stream",
     "text": [
      "4 4\n",
      "4\n",
      "3 7\n",
      "7\n",
      "2 9\n",
      "9\n",
      "1 10\n",
      "10\n",
      "0 0\n",
      "0\n",
      "1 1\n",
      "1\n"
     ]
    },
    {
     "data": {
      "text/plain": [
       "1"
      ]
     },
     "execution_count": 13,
     "metadata": {},
     "output_type": "execute_result"
    }
   ],
   "source": [
    "sum_of_digs(1234)"
   ]
  },
  {
   "cell_type": "code",
   "execution_count": 21,
   "id": "7c365f87-86f0-4933-8880-bbf4ad16dc25",
   "metadata": {},
   "outputs": [],
   "source": [
    "def sum_of_digits_real(number):\n",
    "    res = number % 9\n",
    "    if res == 0:\n",
    "        return 9\n",
    "    return res"
   ]
  },
  {
   "cell_type": "code",
   "execution_count": 22,
   "id": "553263b5-df32-49bb-8631-b7f76bfb35f0",
   "metadata": {},
   "outputs": [
    {
     "data": {
      "text/plain": [
       "9"
      ]
     },
     "execution_count": 22,
     "metadata": {},
     "output_type": "execute_result"
    }
   ],
   "source": [
    "sum_of_digits_real(234)"
   ]
  },
  {
   "cell_type": "markdown",
   "id": "2dede173-13c3-4710-807b-d7504b44c51a",
   "metadata": {},
   "source": [
    "# Given a number, determine if it is prime or not"
   ]
  },
  {
   "cell_type": "code",
   "execution_count": 23,
   "id": "b2c12ee9-5c0c-4783-b1ed-0cbd43261bc1",
   "metadata": {},
   "outputs": [],
   "source": [
    "def check_prime(number):\n",
    "    # only divisible by 1 and the number\n",
    "    # use % and if statement\n",
    "    # Even numbers? 2 is the only even prime number\n",
    "    # \n",
    "    if number < 2:\n",
    "        return False\n",
    "    if number % 2 == 0 and number > 2:\n",
    "        return False\n",
    "    for num in range(2, number):\n",
    "        if number % num == 0:\n",
    "            return False\n",
    "    return True"
   ]
  },
  {
   "cell_type": "code",
   "execution_count": 29,
   "id": "f8c32b13-4fd1-414c-84cd-2f2acd8e32ca",
   "metadata": {},
   "outputs": [
    {
     "data": {
      "text/plain": [
       "False"
      ]
     },
     "execution_count": 29,
     "metadata": {},
     "output_type": "execute_result"
    }
   ],
   "source": [
    "check_prime(1)"
   ]
  },
  {
   "cell_type": "markdown",
   "id": "fe7e2e03-5581-463e-834f-a4039200bf64",
   "metadata": {},
   "source": [
    "# Given a number, give me its factorial\n",
    "### 0! = 1, factorial of negative numbers does not exist"
   ]
  },
  {
   "cell_type": "code",
   "execution_count": 30,
   "id": "0b13ee44-9026-4881-8cee-e8ce3d4bc7a5",
   "metadata": {},
   "outputs": [],
   "source": [
    "def factorial(n):\n",
    "    # len() the number --> len() cannot be used on numbers\n",
    "    # If I enter a number less than 0, it does not work\n",
    "    # 0! = 1\n",
    "    if n < 0:\n",
    "        return \"Invaild number\"\n",
    "    if n <= 1:\n",
    "        return 1\n",
    "    res = 1\n",
    "    # 2 and other numbers?\n",
    "    for ind in range(1, n+1):\n",
    "        res *= ind\n",
    "    return res"
   ]
  },
  {
   "cell_type": "code",
   "execution_count": 35,
   "id": "c611c3ad-cbde-40f5-bbc6-f686f0129996",
   "metadata": {},
   "outputs": [
    {
     "data": {
      "text/plain": [
       "120"
      ]
     },
     "execution_count": 35,
     "metadata": {},
     "output_type": "execute_result"
    }
   ],
   "source": [
    "factorial(5)"
   ]
  },
  {
   "cell_type": "markdown",
   "id": "3c86db03-91e3-4a1d-8072-b323f0a890d0",
   "metadata": {},
   "source": [
    "# Ticket out of the Door and Homework"
   ]
  },
  {
   "cell_type": "markdown",
   "id": "aaaa1966-b44b-4087-af19-b51c80ed1f6e",
   "metadata": {},
   "source": [
    "# Mr. Wahoo is trying to climb up n stairs. He can either climb 1 stair or 2 stairs at a time. How many ways can he climb up n stairs?"
   ]
  },
  {
   "cell_type": "code",
   "execution_count": 1,
   "id": "916cbcd8-14f1-4b81-bd5c-026298fcc9a0",
   "metadata": {},
   "outputs": [],
   "source": [
    "def wahoo_climb_stairs(n):\n",
    "    # How many ways can he get to the top?\n",
    "    # if there is only 1 step, there is one way\n",
    "    # if there are 2 steps, there are two ways. 1, 1; or 2;\n",
    "    if n == 1:\n",
    "        return 1\n",
    "    if n == 2:\n",
    "        return 2\n",
    "    first = 1\n",
    "    second = 2\n",
    "    res = 0\n",
    "    for ind in range(2, n):\n",
    "        res = first + second\n",
    "        first = second\n",
    "        second = res\n",
    "    return res"
   ]
  },
  {
   "cell_type": "code",
   "execution_count": 3,
   "id": "ed39402c-c305-4a94-a5fd-6f0171b792e1",
   "metadata": {},
   "outputs": [
    {
     "data": {
      "text/plain": [
       "5"
      ]
     },
     "execution_count": 3,
     "metadata": {},
     "output_type": "execute_result"
    }
   ],
   "source": [
    "wahoo_climb_stairs(4)"
   ]
  },
  {
   "cell_type": "markdown",
   "id": "29c51b9d-e8a1-4e0c-932b-8f5d9d328651",
   "metadata": {},
   "source": [
    "# You are at (0, 0) in a grid. You can only travel through the edges of the grid, and can only move right or up. How many ways can you get to (m, n), you cannot go backwards on a line."
   ]
  },
  {
   "cell_type": "code",
   "execution_count": 18,
   "id": "8018b096-5613-4bee-b34e-f9ea796a059a",
   "metadata": {},
   "outputs": [],
   "source": [
    "from math import comb\n",
    "import math"
   ]
  },
  {
   "cell_type": "code",
   "execution_count": 19,
   "id": "01ada9d7-c829-47be-86e7-384bfffa700c",
   "metadata": {},
   "outputs": [],
   "source": [
    "def ways_in_grid_right_up(m, n):\n",
    "    return math.comb(m+n, m)"
   ]
  },
  {
   "cell_type": "code",
   "execution_count": 20,
   "id": "79fee6e2-c5cd-42ed-9b2e-30d68bfa869b",
   "metadata": {},
   "outputs": [
    {
     "data": {
      "text/plain": [
       "84"
      ]
     },
     "execution_count": 20,
     "metadata": {},
     "output_type": "execute_result"
    }
   ],
   "source": [
    "ways_in_grid_right_up(6, 3)"
   ]
  },
  {
   "cell_type": "markdown",
   "id": "783507a1-f758-4bb6-8271-18c538689dae",
   "metadata": {},
   "source": [
    "# No importing. Implement the combination functions"
   ]
  },
  {
   "cell_type": "code",
   "execution_count": 8,
   "id": "809699ae-7bdc-4dee-9fc6-eacf79d77e26",
   "metadata": {},
   "outputs": [],
   "source": [
    "# Add other functions to help you, as you need\n",
    "# Return a choose b, given a and b, without importing from math or any other library\n",
    "# n choose k = n!/((k!)*(n-k)!)\n",
    "# 2 choose 3 --> Does this work?\n",
    "def factorial(n):\n",
    "    res = 1\n",
    "    for ind in range(1, n+1):\n",
    "        res *= ind\n",
    "    return res\n",
    "\n",
    "def combinations(a, b):\n",
    "    if a < b or a < 0 or b < 0:\n",
    "        return \"Not Possible\"\n",
    "    return factorial(a)//(factorial(b)*(factorial(a-b)))"
   ]
  },
  {
   "cell_type": "code",
   "execution_count": 9,
   "id": "7d267162-bebc-4f8f-bdd2-5007f7e7f6ad",
   "metadata": {},
   "outputs": [
    {
     "data": {
      "text/plain": [
       "6"
      ]
     },
     "execution_count": 9,
     "metadata": {},
     "output_type": "execute_result"
    }
   ],
   "source": [
    "combinations(4, 2)"
   ]
  },
  {
   "cell_type": "markdown",
   "id": "7d73ea34-18b7-4cc5-8c7d-62f36a197698",
   "metadata": {},
   "source": [
    "# Try to get to (3, 3) in the previous problem"
   ]
  },
  {
   "cell_type": "code",
   "execution_count": 14,
   "id": "2f6cbea1-3a2a-4b20-8884-d44b7c3661a5",
   "metadata": {},
   "outputs": [
    {
     "data": {
      "text/plain": [
       "20"
      ]
     },
     "execution_count": 14,
     "metadata": {},
     "output_type": "execute_result"
    }
   ],
   "source": [
    "combinations(6, 3)"
   ]
  },
  {
   "cell_type": "markdown",
   "id": "a438dad7-31c9-48cb-9202-e51ba913abf6",
   "metadata": {},
   "source": [
    "# Implement permutations without importing from Math library"
   ]
  },
  {
   "cell_type": "code",
   "execution_count": 1,
   "id": "0f2463a9-0704-4cb0-b58a-94b9bc7b23c9",
   "metadata": {},
   "outputs": [],
   "source": [
    "# Some helper\n",
    "# n!/(n-k)! = permutations, combinations = n!/(k!*(n-k)!)\n",
    "def factorial(n):\n",
    "    res = 1\n",
    "    for ind in range(1, n+1):\n",
    "        res *= ind\n",
    "    return res\n",
    "# Actual thing\n",
    "def permutations(a, b):\n",
    "    if a < b or a < 0 or b < 0:\n",
    "        return \"Not Possible\"\n",
    "    return factorial(a)//((factorial(a-b)))"
   ]
  },
  {
   "cell_type": "code",
   "execution_count": 2,
   "id": "b1aeffde-c5a2-40a2-97d6-20ed8e75d113",
   "metadata": {},
   "outputs": [
    {
     "data": {
      "text/plain": [
       "3"
      ]
     },
     "execution_count": 2,
     "metadata": {},
     "output_type": "execute_result"
    }
   ],
   "source": [
    "permutations(3, 1)"
   ]
  },
  {
   "cell_type": "code",
   "execution_count": 7,
   "id": "44efb7db-9ab7-48bc-9593-c0a7865377f2",
   "metadata": {},
   "outputs": [
    {
     "data": {
      "text/plain": [
       "24"
      ]
     },
     "execution_count": 7,
     "metadata": {},
     "output_type": "execute_result"
    }
   ],
   "source": [
    "# Vignesh\n",
    "permutations(4, 4)"
   ]
  },
  {
   "cell_type": "code",
   "execution_count": 3,
   "id": "74c5db43-58b4-4cdb-bbb1-0d4f9fb39a5a",
   "metadata": {},
   "outputs": [
    {
     "data": {
      "text/plain": [
       "20"
      ]
     },
     "execution_count": 3,
     "metadata": {},
     "output_type": "execute_result"
    }
   ],
   "source": [
    "# Kaysha\n",
    "permutations(5, 2)"
   ]
  },
  {
   "cell_type": "code",
   "execution_count": 6,
   "id": "e428632b-c8f6-4de6-9fa5-3282d9ed33a4",
   "metadata": {},
   "outputs": [
    {
     "data": {
      "text/plain": [
       "1680"
      ]
     },
     "execution_count": 6,
     "metadata": {},
     "output_type": "execute_result"
    }
   ],
   "source": [
    "# Lucky\n",
    "permutations(8, 4)"
   ]
  },
  {
   "cell_type": "code",
   "execution_count": 5,
   "id": "764ddac7-cd79-4417-8db5-394b3dffae27",
   "metadata": {},
   "outputs": [
    {
     "data": {
      "text/plain": [
       "604800"
      ]
     },
     "execution_count": 5,
     "metadata": {},
     "output_type": "execute_result"
    }
   ],
   "source": [
    "# Pradhyum\n",
    "permutations(10, 7)"
   ]
  },
  {
   "cell_type": "code",
   "execution_count": 4,
   "id": "2fdedd22-3ad8-4c4c-a1fd-0226f01ddc63",
   "metadata": {},
   "outputs": [
    {
     "data": {
      "text/plain": [
       "336"
      ]
     },
     "execution_count": 4,
     "metadata": {},
     "output_type": "execute_result"
    }
   ],
   "source": [
    "# Abhinav\n",
    "permutations(8, 3)"
   ]
  },
  {
   "cell_type": "markdown",
   "id": "e4414eb4-ba72-47bf-9ba3-671a108ac457",
   "metadata": {},
   "source": [
    "# Find the sum of a factorial of a number. 5! = 120, digit sum = 1 + 2 + 0 = 3. 10! = 3628800, digit sum = 3 + 2 + 6 + 6 + 8 + 8 + 0 + 0 = 27"
   ]
  },
  {
   "cell_type": "code",
   "execution_count": 8,
   "id": "343a12ba-f69e-4aae-a16f-5b41ec2ae42d",
   "metadata": {},
   "outputs": [],
   "source": [
    "def factorial(n):\n",
    "    res = 1\n",
    "    for ind in range(1, n+1):\n",
    "        res *= ind\n",
    "    return res\n",
    "\n",
    "def digits_sum(n):\n",
    "    # hold the result\n",
    "    res = 0\n",
    "    # We want to keep going till n is greater than 0\n",
    "    while n != 0:\n",
    "        # We extract the last digit of the number\n",
    "        digit = n % 10\n",
    "        # Adding the last digit to the sum\n",
    "        res += digit\n",
    "        # integer division\n",
    "        n //= 10\n",
    "    return res"
   ]
  },
  {
   "cell_type": "code",
   "execution_count": 9,
   "id": "c3630faf-1af3-4067-93b6-953542aee891",
   "metadata": {},
   "outputs": [
    {
     "data": {
      "text/plain": [
       "27"
      ]
     },
     "execution_count": 9,
     "metadata": {},
     "output_type": "execute_result"
    }
   ],
   "source": [
    "digits_sum(factorial(10))"
   ]
  },
  {
   "cell_type": "code",
   "execution_count": 10,
   "id": "32f9f65d-fb00-4558-8577-92a311d0d87f",
   "metadata": {},
   "outputs": [
    {
     "data": {
      "text/plain": [
       "9"
      ]
     },
     "execution_count": 10,
     "metadata": {},
     "output_type": "execute_result"
    }
   ],
   "source": [
    "digits_sum(factorial(7))"
   ]
  },
  {
   "cell_type": "markdown",
   "id": "503411e5-79df-47a9-bd6e-27c65e054f55",
   "metadata": {},
   "source": [
    "# We have a list of weights of hippos. We want to get the heaviest and the lightest hippo from the list\n",
    "### [1000, 2000, 500, 6000, 4000], heaviest = 6000, lightest = 500"
   ]
  },
  {
   "cell_type": "code",
   "execution_count": null,
   "id": "314b5b00-8729-4ec0-a128-3990d8637424",
   "metadata": {},
   "outputs": [],
   "source": []
  },
  {
   "cell_type": "markdown",
   "id": "57f674a4-ea88-4712-861a-647c5c37ce78",
   "metadata": {},
   "source": [
    "# Find if a number is an armstrong number or not.\n",
    "### Get each digit of the number, raise it to the number of digits, and check if it is the same as the original number.\n",
    "### 153, 3 digits, so we raise it to the 3rd power. 1^3 + 5^3 + 3^3 = 1 + 125 + 27 = 153. The sum is the same as the original number, so this is an Armstrong number"
   ]
  },
  {
   "cell_type": "code",
   "execution_count": null,
   "id": "c469b2b1-8b7d-4940-973d-d9807795f1f7",
   "metadata": {},
   "outputs": [],
   "source": []
  }
 ],
 "metadata": {
  "kernelspec": {
   "display_name": "Python 3 (ipykernel)",
   "language": "python",
   "name": "python3"
  },
  "language_info": {
   "codemirror_mode": {
    "name": "ipython",
    "version": 3
   },
   "file_extension": ".py",
   "mimetype": "text/x-python",
   "name": "python",
   "nbconvert_exporter": "python",
   "pygments_lexer": "ipython3",
   "version": "3.8.10"
  }
 },
 "nbformat": 4,
 "nbformat_minor": 5
}
